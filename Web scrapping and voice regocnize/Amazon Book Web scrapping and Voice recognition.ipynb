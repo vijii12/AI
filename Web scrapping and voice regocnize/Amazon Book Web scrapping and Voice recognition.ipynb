{
 "cells": [
  {
   "cell_type": "code",
   "execution_count": 1,
   "id": "9d58ca68",
   "metadata": {},
   "outputs": [],
   "source": [
    "import pandas as pd\n",
    "import numpy as np\n",
    "import matplotlib.pyplot as plt\n",
    "import seaborn as sns\n",
    "%matplotlib inline\n",
    "import re\n",
    "import time\n",
    "from datetime import datetime\n",
    "from bs4 import BeautifulSoup as bs\n",
    "import requests\n",
    "import html.parser\n",
    "import warnings\n",
    "warnings.filterwarnings('ignore')"
   ]
  },
  {
   "cell_type": "code",
   "execution_count": 2,
   "id": "f8924e7b",
   "metadata": {},
   "outputs": [],
   "source": [
    "def get_book(num):\n",
    "    url=[f'https://www.amazon.in/gp/bestsellers/books/ref=zg_bs_pg_{num}_books?ie=UTF8&pg={num}',f'https://www.amazon.in/gp/bestsellers/books/1318158031/ref=zg_bs_pg_{num}_books?ie=UTF8&pg={num}',f'https://www.amazon.in/gp/bestsellers/books/89265407031/ref=zg_bs_pg_{num}_books?ie=UTF8&pg={num}',f'https://www.amazon.in/gp/bestsellers/books/1318161031/ref=zg_bs_pg_{num}_books?ie=UTF8&pg={num}']\n",
    "    allv=[]\n",
    "    for urlt in url:\n",
    "        r=requests.get(urlt)\n",
    "        webh=bs(r.text,'html.parser')\n",
    "        d=webh.findAll('div',attrs={'class':'zg-grid-general-faceout'})\n",
    "        \n",
    "        for dt in d:\n",
    "            name=dt.findAll('div',attrs={'class':'_cDEzb_p13n-sc-css-line-clamp-1_1Fn1y'})\n",
    "            #print(name[0].text)\n",
    "            author=dt.findAll('div',attrs={'class':'_cDEzb_p13n-sc-css-line-clamp-1_1Fn1y'})\n",
    "            #print(author[1].text)\n",
    "            stars=dt.find('span',attrs={'class':'a-icon-alt'})\n",
    "            #print(stars.text)\n",
    "            count=dt.find('span',attrs={'class':'a-size-small'})\n",
    "            \n",
    "            #if c is not None:\n",
    "                #print(count.text)\n",
    "            #else:\n",
    "                #print('0')\n",
    "            price=dt.find('span',attrs={'class':'p13n-sc-price'})\n",
    "            #print(price.text)\n",
    "            al=[]\n",
    "            if len(name)==2:\n",
    "                if name is not None:\n",
    "                    al.append(name[0].text)\n",
    "                else:\n",
    "                    al.append('Unknown-Product')\n",
    "                if author is not None:\n",
    "                    al.append(author[0].text)\n",
    "                else:\n",
    "                    al.append('Unknown-author')\n",
    "                if stars is not None:\n",
    "                    al.append(stars.text)\n",
    "                else:\n",
    "                    al.append('0')\n",
    "                if count is not None:\n",
    "                    c=re.search('\\d+',count.text)\n",
    "                    if c is not None:\n",
    "                        al.append(count.text)\n",
    "                    else:\n",
    "                        al.append('0')\n",
    "                \n",
    "                if price is not None:\n",
    "                    al.append(price.text)\n",
    "                else:\n",
    "                    al.append('0')\n",
    "            else:\n",
    "                continue\n",
    "            allv.append(al)\n",
    "    return(allv)                    \n"
   ]
  },
  {
   "cell_type": "code",
   "execution_count": 4,
   "id": "543b78ca",
   "metadata": {},
   "outputs": [
    {
     "name": "stdout",
     "output_type": "stream",
     "text": [
      "[[['My First Library: Boxset of 10 Board Books for Kids', 'My First Library: Boxset of 10 Board Books for Kids', '4.5 out of 5 stars', '78,128', '₹399.00'], ['BlackBook of English Vocabulary May 2024 by Nikhil Gupta', 'BlackBook of English Vocabulary May 2024 by Nikhil Gupta', '4.2 out of 5 stars', '151', '₹295.00'], ['Atomic Habits: The life-changing million copy bestseller [Paperback] James Clear', 'Atomic Habits: The life-changing million copy bestseller [Paperback] James Clear', '4.6 out of 5 stars', '94,358', '₹499.99'], ['Word Power Made Easy By Norman Lewis (More than 700 Pages)', 'Word Power Made Easy By Norman Lewis (More than 700 Pages)', '4.4 out of 5 stars', '2,904', '₹97.00'], [\"Don't Believe Everything You Think (English)\", \"Don't Believe Everything You Think (English)\", '4.5 out of 5 stars', '6,283', '₹172.00'], ['The Psychology of Money', 'The Psychology of Money', '4.6 out of 5 stars', '63,737', '₹274.00'], ['The Power of Your Subconscious Mind: Original Edition | Premium Paperback', 'The Power of Your Subconscious Mind: Original Edition | Premium Paperback', '4.5 out of 5 stars', '68,487', '₹149.00'], ['Ikigai', 'Ikigai', '4.6 out of 5 stars', '54,832', '₹363.00'], ['BRAHMASTRA Complete Maths Multicolored Formula Book Second Edition BILINGUAL by Aditya Ranjan Sir', 'BRAHMASTRA Complete Maths Multicolored Formula Book Second Edition BILINGUAL by Aditya Ranjan Sir', '4.5 out of 5 stars', '0', '₹150.00'], ['Maths Concept King All Formulas and Theorum | Smart Tricks | Arithmetic & Advance Maths', 'Maths Concept King All Formulas and Theorum | Smart Tricks | Arithmetic & Advance Maths', '4.2 out of 5 stars', '0', '₹229.00'], ['All In One Social Science CBSE Class 10th Based On Latest NCERT For CBSE Exams 2025 | Mind map in each chapter | Clear & Concise Theory | Intext & Chapter Exercises | Sample Question Papers', 'All In One Social Science CBSE Class 10th Based On Latest NCERT For CBSE Exams 2025 | Mind map in each chapter | Clear & Concise Theory | Intext & Chapter Exercises | Sample Question Papers', '4.3 out of 5 stars', '0', '₹362.00'], ['MINtile Sank Magic Practice Copybook, (4 Book + 10 Refill) Number Tracing Book for Preschoolers with Pen, Magic Calligraphy Copybook Set Practical Reusable Writing Tool Simple Hand Lettering', 'MINtile Sank Magic Practice Copybook, (4 Book + 10 Refill) Number Tracing Book for Preschoolers with Pen, Magic Calligraphy Copybook Set Practical Reusable Writing Tool Simple Hand Lettering', '4.0 out of 5 stars', '0', '₹60.00'], ['The Power of Your Subconscious Mind', 'The Power of Your Subconscious Mind', '4.5 out of 5 stars', '0', '₹137.00'], ['All In One Science CBSE Class 10th Based On Latest NCERT For CBSE Exams 2025 | Mind map in each chapter | Clear & Concise Theory | Intext & Chapter Exercises | Sample Question Papers', 'All In One Science CBSE Class 10th Based On Latest NCERT For CBSE Exams 2025 | Mind map in each chapter | Clear & Concise Theory | Intext & Chapter Exercises | Sample Question Papers', '4.4 out of 5 stars', '0', '₹409.00'], [\"Grandma's Bag of Stories: Collection of 20+ Illustrated short stories, traditional Indian folk tales for all ages for children of all ages by Sudha Murty [Paperback] Sudha Murty\", \"Grandma's Bag of Stories: Collection of 20+ Illustrated short stories, traditional Indian folk tales for all ages for children of all ages by Sudha Murty [Paperback] Sudha Murty\", '4.6 out of 5 stars', '0', '₹188.00'], ['Moral Story Books for Kids (Illustrated) - English Short Stories with Colourful Pictures - Bedtime Children Story Book - 3 Years to 6 Years Old Children - Read Aloud to Infants, Toddlers (Set of 10 Books)', 'Moral Story Books for Kids (Illustrated) - English Short Stories with Colourful Pictures - Bedtime Children Story Book - 3 Years to 6 Years Old Children - Read Aloud to Infants, Toddlers (Set of 10 Books)', '4.5 out of 5 stars', '2,729', '₹218.00'], ['My First Book of Patterns Pencil Control: Patterns Practice book for kids (Pattern Writing)', 'My First Book of Patterns Pencil Control: Patterns Practice book for kids (Pattern Writing)', '4.4 out of 5 stars', '27,996', '₹108.00'], ['Animals Tales From Panchtantra: Timeless Stories for Children From Ancient India', 'Animals Tales From Panchtantra: Timeless Stories for Children From Ancient India', '4.5 out of 5 stars', '5,609', '₹195.00'], ['Indian Polity for UPSC (English)|7th Edition|Civil Services Exam| State Administrative Exams', 'Indian Polity for UPSC (English)|7th Edition|Civil Services Exam| State Administrative Exams', '4.6 out of 5 stars', '2,010', '₹729.00'], ['All In One English Language & Literature CBSE Class 10th Based On Latest NCERT For CBSE Exams 2025 | Mind map in each chapter | Clear & Concise Theory | Intext & Chapter Exercises | Sample Question Papers', 'All In One English Language & Literature CBSE Class 10th Based On Latest NCERT For CBSE Exams 2025 | Mind map in each chapter | Clear & Concise Theory | Intext & Chapter Exercises | Sample Question Papers', '4.0 out of 5 stars', '0', '₹375.00'], ['I Have the Streets: A Kutty Cricket Story: A Kutti Cricket Story', 'I Have the Streets: A Kutty Cricket Story: A Kutti Cricket Story', '4.6 out of 5 stars', '9', '₹387.00'], ['NEETU SINGH ENGLISH FOR GENERAL COMPETITIONS VOL - 1 IN ENGLISH NEW 2023 EDITION', 'NEETU SINGH ENGLISH FOR GENERAL COMPETITIONS VOL - 1 IN ENGLISH NEW 2023 EDITION', '4.2 out of 5 stars', '0', '₹334.00'], ['Menstrupedia Comic : The Friendly Guide To Periods For Girls (English)', 'Menstrupedia Comic : The Friendly Guide To Periods For Girls (English)', '4.7 out of 5 stars', '2,563', '₹295.00'], ['MTG Objective NCERT at your FINGERTIPS Biology - NCERT Notes with HD Pages, Exam Archive & MCQs | Based on NMC NEET Rationalised Syllabus, NEET Books (Latest & Revised Edition 2024-2025', 'MTG Objective NCERT at your FINGERTIPS Biology - NCERT Notes with HD Pages, Exam Archive & MCQs | Based on NMC NEET Rationalised Syllabus, NEET Books (Latest & Revised Edition 2024-2025', '4.4 out of 5 stars', '325', '₹562.00'], ['THE SILENT PATIENT [Paperback] Michaelides, Alex', 'THE SILENT PATIENT [Paperback] Michaelides, Alex', '4.5 out of 5 stars', '308,753', '₹229.00'], ['THE LION INSIDE', 'THE LION INSIDE', '4.7 out of 5 stars', '8,059', '₹263.00'], [\"Own Your Body: A Doctor's Life-saving Tips\", \"Own Your Body: A Doctor's Life-saving Tips\", '4.5 out of 5 stars', '0', '₹324.00'], [\"Lucent's General Knowledge 2024 || The Original Book with Hologram || 14th Edition || English Version\", \"Lucent's General Knowledge 2024 || The Original Book with Hologram || 14th Edition || English Version\", '3.6 out of 5 stars', '0', '₹250.00'], ['How to Win Friends and Influence People : Original Edition | Premium Paperback', 'How to Win Friends and Influence People : Original Edition | Premium Paperback', '4.5 out of 5 stars', '89,863', '₹128.00'], ['Rich Dad Poor Dad : What the Rich Teach Their Kids About Money', 'Rich Dad Poor Dad : What the Rich Teach Their Kids About Money', '4.5 out of 5 stars', '30,343', '₹395.00'], ['The Palace of Illusions: 10th Anniversary Edition [Paperback] Banerjee Divakaruni, Chitra', 'The Palace of Illusions: 10th Anniversary Edition [Paperback] Banerjee Divakaruni, Chitra', '4.5 out of 5 stars', '10,059', '₹315.00'], ['SSC TCS PYQs Mathematics Chapterwise & Typewise Solved Papers 11950+ Till - December 2023 (Stat. & Probab.) (Detailed & Short Sol.):Tcs Pyqs of Cgl;Cpo;Chsl;Mts;DP,GD Covered (English Medium)(4599)', 'SSC TCS PYQs Mathematics Chapterwise & Typewise Solved Papers 11950+ Till - December 2023 (Stat. & Probab.) (Detailed & Short Sol.):Tcs Pyqs of Cgl;Cpo;Chsl;Mts;DP,GD Covered (English Medium)(4599)', '4.1 out of 5 stars', '0', '₹585.00'], ['World’s Greatest Books For Personal Growth & Wealth (Set of 4 Books) : Perfect Motivational Gift Set', 'World’s Greatest Books For Personal Growth & Wealth (Set of 4 Books) : Perfect Motivational Gift Set', '4.5 out of 5 stars', '0', '₹349.00'], ['Lucifer was Innocent: The Red Pill', 'Lucifer was Innocent: The Red Pill', '3.8 out of 5 stars', '165', '₹297.00'], ['The Magic Of The Lost Temple**', 'The Magic Of The Lost Temple**', '4.6 out of 5 stars', '0', '₹197.00'], ['Taxmann’s New Criminal Laws Combo – Bharatiya Nyaya Sanhita 2023 (BNS) | Bharatiya Nagarik Suraksha Sanhita 2023 (BNSS) | Bharatiya Sakshya Adhiniyam 2023 (BSA) | 3 Books Set', 'Taxmann’s New Criminal Laws Combo – Bharatiya Nyaya Sanhita 2023 (BNS) | Bharatiya Nagarik Suraksha Sanhita 2023 (BNSS) | Bharatiya Sakshya Adhiniyam 2023 (BSA) | 3 Books Set', '4.4 out of 5 stars', '223', '₹611.00'], ['Oxford Student Atlas for India | 5th Edition | For UPSC and Competitive Exams | Latest Edition', 'Oxford Student Atlas for India | 5th Edition | For UPSC and Competitive Exams | Latest Edition', '4.5 out of 5 stars', '226', '₹248.00'], ['Nursery Rhymes Board Book (My First Book Series): Illustrated Classic Nursery Rhymes', 'Nursery Rhymes Board Book (My First Book Series): Illustrated Classic Nursery Rhymes', '4.6 out of 5 stars', '5,045', '₹172.00'], ['The Alchemist', 'The Alchemist', '4.6 out of 5 stars', '147,991', '₹239.00'], ['Coloring Books Box Set: Pack of 12 Copy Color Books For Children', 'Coloring Books Box Set: Pack of 12 Copy Color Books For Children', '4.4 out of 5 stars', '4,817', '₹361.00'], ['My First Mythology Tale (Illustrated) (Set of 5 Books) - Mahabharata, Krishna, Hanuman, Ganesha, Ramayana - Story Books for Kids - English Short Stories - Read Aloud to Infants, Toddlers', 'My First Mythology Tale (Illustrated) (Set of 5 Books) - Mahabharata, Krishna, Hanuman, Ganesha, Ramayana - Story Books for Kids - English Short Stories - Read Aloud to Infants, Toddlers', '4.4 out of 5 stars', '8,830', '₹182.00'], ['Courage To Be Disliked, The: How to free yourself, change your life and achieve real happiness (Courage To series)', 'Courage To Be Disliked, The: How to free yourself, change your life and achieve real happiness (Courage To series)', '4.5 out of 5 stars', '0', '₹329.00'], ['Think and Grow Rich: THE 21st CENTURY EDITION', 'Think and Grow Rich: THE 21st CENTURY EDITION', '4.5 out of 5 stars', '5,750', '₹137.00'], ['Attitude is Everything change your attitude change your life!', 'Attitude is Everything change your attitude change your life!', '4.5 out of 5 stars', '25,015', '₹146.00'], ['MTG Objective NCERT at your FINGERTIPS Chemistry - NCERT Notes with HD Pages, Exam Archive & MCQs | Based on NMC NEET Rationalised Syllabus, NEET-JEE Books (Latest & Revised Edition 2024-2025)', 'MTG Objective NCERT at your FINGERTIPS Chemistry - NCERT Notes with HD Pages, Exam Archive & MCQs | Based on NMC NEET Rationalised Syllabus, NEET-JEE Books (Latest & Revised Edition 2024-2025)', '4.4 out of 5 stars', '228', '₹434.00'], [\"NTA UGC NET '24 Paper 1 By Kvs Madaan|Teaching And Research Aptitude Net/Set/Jrf|Includes 2023 Paper (2 Sets) & 23 Years Chapter Wise Solved Previous Year Questions|Includes 2600+ Questions\", \"NTA UGC NET '24 Paper 1 By Kvs Madaan|Teaching And Research Aptitude Net/Set/Jrf|Includes 2023 Paper (2 Sets) & 23 Years Chapter Wise Solved Previous Year Questions|Includes 2600+ Questions\", '4.3 out of 5 stars', '185', '₹359.00'], ['All In One English Core class 12th Based On Latest NCERT For CBSE Exams 2025 | Mind map in each chapter | Clear & Concise Theory | Intext & Chapter Exercises | Sample Question Papers', 'All In One English Core class 12th Based On Latest NCERT For CBSE Exams 2025 | Mind map in each chapter | Clear & Concise Theory | Intext & Chapter Exercises | Sample Question Papers', '4.5 out of 5 stars', '0', '₹375.00'], ['Story Books for Kids - Second Reader (Illustrated) (Set of 6 Books) - Phonic stories - Bedtime Stories - 3 Years to 6 Years Old - Read Aloud to Infants, Toddlers', 'Story Books for Kids - Second Reader (Illustrated) (Set of 6 Books) - Phonic stories - Bedtime Stories - 3 Years to 6 Years Old - Read Aloud to Infants, Toddlers', '4.3 out of 5 stars', '136', '₹152.00'], ['All In One Science CBSE Class 9th Based On Latest NCERT For CBSE Exams 2025 | Mind map in each chapter | Clear & Concise Theory | Intext & Chapter Exercises | Sample Question Papers', 'All In One Science CBSE Class 9th Based On Latest NCERT For CBSE Exams 2025 | Mind map in each chapter | Clear & Concise Theory | Intext & Chapter Exercises | Sample Question Papers', '4.4 out of 5 stars', '0', '₹189.00'], [\"Harry Potter and the Philosopher's Stone\", \"Harry Potter and the Philosopher's Stone\", '4.7 out of 5 stars', '112,119', '₹313.95'], ['THE SILENT PATIENT [Paperback] Michaelides, Alex', 'THE SILENT PATIENT [Paperback] Michaelides, Alex', '4.5 out of 5 stars', '308,753', '₹229.00'], ['THE LION INSIDE', 'THE LION INSIDE', '4.7 out of 5 stars', '8,059', '₹263.00'], ['Energize Your Mind: Learn the Art of Mastering Your Thoughts, Feelings and Emotions', 'Energize Your Mind: Learn the Art of Mastering Your Thoughts, Feelings and Emotions', '4.6 out of 5 stars', '3,752', '₹196.00'], ['The Naga Warriors 1: Battle of Gokul Vol 1', 'The Naga Warriors 1: Battle of Gokul Vol 1', '4.6 out of 5 stars', '60', '₹197.00'], ['Hidden Hindu, The (Book 1)', 'Hidden Hindu, The (Book 1)', '4.5 out of 5 stars', '3,950', '₹197.00'], ['The Hidden Hindu Book 2', 'The Hidden Hindu Book 2', '4.6 out of 5 stars', '2,220', '₹190.00'], ['The Stationery Shop of Tehran', 'The Stationery Shop of Tehran', '4.4 out of 5 stars', '8,237', '₹328.00'], ['Saat Chiranjeevi (Hindi Edition)', 'Saat Chiranjeevi (Hindi Edition)', '4.0 out of 5 stars', '303', '₹125.68'], ['The Hidden Hindu Book 3', 'The Hidden Hindu Book 3', '4.6 out of 5 stars', '1,853', '₹209.00'], ['Harry Potter and the Chamber of Secrets', 'Harry Potter and the Chamber of Secrets', '4.7 out of 5 stars', '89,831', '₹236.55'], ['The Complete Novels of Sherlock Holmes', 'The Complete Novels of Sherlock Holmes', '4.4 out of 5 stars', '20,570', '₹189.00'], ['Something I Never Told You [Paperback] Bhinder, Shravya', 'Something I Never Told You [Paperback] Bhinder, Shravya', '4.3 out of 5 stars', '2,998', '₹165.00'], ['THE KOALA WHO COULD BOARD BOOK', 'THE KOALA WHO COULD BOARD BOOK', '4.7 out of 5 stars', '6,779', '₹733.00'], ['Harry Potter and the Half-Blood Prince', 'Harry Potter and the Half-Blood Prince', '4.8 out of 5 stars', '74,096', '₹313.95'], ['Baby Touch: Tummy Time [Board book] Ladybird', 'Baby Touch: Tummy Time [Board book] Ladybird', '4.6 out of 5 stars', '0', '₹292.00'], ['The Secret Garden', 'The Secret Garden', '4.4 out of 5 stars', '20,645', '₹137.00'], ['Harry Potter and the Prisoner of Azkaban', 'Harry Potter and the Prisoner of Azkaban', '4.8 out of 5 stars', '40,048', '₹313.95'], ['Mrityunjay: Maha-Asura Series: Book 1', 'Mrityunjay: Maha-Asura Series: Book 1', '4.7 out of 5 stars', '0', '₹179.00'], ['Harry Potter and the Order of the Phoenix', 'Harry Potter and the Order of the Phoenix', '4.7 out of 5 stars', '33,818', '₹313.95'], ['Fire and Blood: The inspiration for HBO and Sky TV series HOUSE OF THE DRAGON from the internationally bestselling creator of GAME OF THRONES (A Song of Ice and Fire)', 'Fire and Blood: The inspiration for HBO and Sky TV series HOUSE OF THE DRAGON from the internationally bestselling creator of GAME OF THRONES (A Song of Ice and Fire)', '4.5 out of 5 stars', '31,236', '₹664.93'], ['Harry Potter and the Goblet of Fire', 'Harry Potter and the Goblet of Fire', '4.7 out of 5 stars', '0', '₹313.95'], ['Samsara: Enter The Valley Of The Gods', 'Samsara: Enter The Valley Of The Gods', '4.3 out of 5 stars', '1,237', '₹145.00'], ['Harry Potter and the Deathly Hallows', 'Harry Potter and the Deathly Hallows', '4.8 out of 5 stars', '89,104', '₹313.95'], ['The Hidden Hindu Boxset', 'The Hidden Hindu Boxset', '4.4 out of 5 stars', '4', '₹543.00'], ['THE GOPI DIARIES BOXSET: set of 3 books', 'THE GOPI DIARIES BOXSET: set of 3 books', '4.8 out of 5 stars', '0', '₹657.00'], ['War Of Lanka (Ram Chandra Series Book 4)', 'War Of Lanka (Ram Chandra Series Book 4)', '4.3 out of 5 stars', '6,225', '₹322.69'], ['The Secret Of The Nagas (Shiva Trilogy Book 2) (The Shiva Trilogy, 2)', 'The Secret Of The Nagas (Shiva Trilogy Book 2) (The Shiva Trilogy, 2)', '4.6 out of 5 stars', '14,064', '₹259.00'], ['The Immortals of Meluha (Shiva Trilogy Book 1) (Shiva, 1)', 'The Immortals of Meluha (Shiva Trilogy Book 1) (Shiva, 1)', '4.6 out of 5 stars', '19,675', '₹259.00'], ['The Cruel Prince (The Folk of the Air)', 'The Cruel Prince (The Folk of the Air)', '4.5 out of 5 stars', '46,701', '₹323.00'], ['Ram - Scion Of Ikshvaku (Ram Chandra Series Book 1) (Ram Chandra, 1)', 'Ram - Scion Of Ikshvaku (Ram Chandra Series Book 1) (Ram Chandra, 1)', '4.3 out of 5 stars', '20,822', '₹259.00'], ['Sunama', 'Sunama', '3.6 out of 5 stars', '451', '₹359.00'], ['Samarth Agarwal Questions & Answers Series Combo Of 6 books (code of criminal procedure, indian evidence act, constitutional law, indian penal code, code of civil procedure, indian contract act) [Paperback] samarth agarwal', 'Samarth Agarwal Questions & Answers Series Combo Of 6 books (code of criminal procedure, indian evidence act, constitutional law, indian penal code, code of civil procedure, indian contract act) [Paperback] samarth agarwal', '5.0 out of 5 stars', '0', '₹1,230.00'], ['SWAMI AND FRIENDS, R.K. Narayan', 'SWAMI AND FRIENDS, R.K. Narayan', '4.6 out of 5 stars', '1,792', '₹134.00'], ['The Immortals of Meluha', 'The Immortals of Meluha', '4.6 out of 5 stars', '0', '₹210.00'], ['Indistractable', 'Indistractable', '4.5 out of 5 stars', '4,663', '₹385.00'], ['Peppa Pig: 1000 First Words Sticker Book', 'Peppa Pig: 1000 First Words Sticker Book', '4.6 out of 5 stars', '0', '₹223.00'], ['My Life in Full', 'My Life in Full', '4.6 out of 5 stars', '0', '₹322.00'], ['A Game of Thrones (Reissue): Book 1 (A Song of Ice and Fire)', 'A Game of Thrones (Reissue): Book 1 (A Song of Ice and Fire)', '4.6 out of 5 stars', '73,023', '₹399.00'], ['Raavan: Enemy Of Aryavarta (The Ram Chandra, 3)', 'Raavan: Enemy Of Aryavarta (The Ram Chandra, 3)', '4.5 out of 5 stars', '16,730', '₹258.00'], ['Project Hail Mary (Lead Title)', 'Project Hail Mary (Lead Title)', '4.7 out of 5 stars', '120,242', '₹362.00'], ['Man-eaters of Kumaon', 'Man-eaters of Kumaon', '4.6 out of 5 stars', '418', '₹137.00'], ['The Hidden Hindu', 'The Hidden Hindu', '4.5 out of 5 stars', '0', '₹879.00'], ['திருடா திருடி : Thirudaa thirudi (Tamil Edition)', 'திருடா திருடி : Thirudaa thirudi (Tamil Edition)', '4.4 out of 5 stars', '154', '₹300.00'], ['A Game of Thrones: Book 1 of A Song of Ice and Fire', 'A Game of Thrones: Book 1 of A Song of Ice and Fire', '4.6 out of 5 stars', '0', '₹1,214.00'], ['Around The World In Eighty Days By Jules Verne - A Classic Adventure Novel | Victorian Era Fiction | Action-Packed Expedition | Timeless Classic Of Exploration And Discovery [Paperback] Jules Verne', 'Around The World In Eighty Days By Jules Verne - A Classic Adventure Novel | Victorian Era Fiction | Action-Packed Expedition | Timeless Classic Of Exploration And Discovery [Paperback] Jules Verne', '4.3 out of 5 stars', '16,705', '₹137.00'], ['Breath (Lead Title)', 'Breath (Lead Title)', '4.6 out of 5 stars', '27,441', '₹310.00'], ['Beach Read', 'Beach Read', '4.1 out of 5 stars', '0', '₹324.00'], ['The Ram Chandra Series Boxset: Boxset of 4 Books (Ram - Scion of Ikshvaku, Sita : Warrior of Mithila, Raavan : Enemy of Aryavarta, War of Lanka)', 'The Ram Chandra Series Boxset: Boxset of 4 Books (Ram - Scion of Ikshvaku, Sita : Warrior of Mithila, Raavan : Enemy of Aryavarta, War of Lanka)', '4.7 out of 5 stars', '454', '₹1,017.00'], ['Bright Lights and Summer Nights: A Fake Dating Billionaire Sports Romance (Black Tie Billionaires)', 'Bright Lights and Summer Nights: A Fake Dating Billionaire Sports Romance (Black Tie Billionaires)', '4.5 out of 5 stars', '1,888', '₹449.00'], ['Offside (Rules of the Game)', 'Offside (Rules of the Game)', '4.2 out of 5 stars', '25,798', '₹416.00'], ['Twisted Deeds: A Dark Hockey Bully Romance (Hellions of Hade Harbor Book 3)', 'Twisted Deeds: A Dark Hockey Bully Romance (Hellions of Hade Harbor Book 3)', '5.0 out of 5 stars', '1', '₹449.00'], ['Until I Get You: A Hockey Romance Novel (Fairview Hockey Book 1)', 'Until I Get You: A Hockey Romance Novel (Fairview Hockey Book 1)', '4.4 out of 5 stars', '16,955', '₹449.00'], ['So This Is War', 'So This Is War', '4.6 out of 5 stars', '3', '₹416.00'], ['Shutout (Rules of the Game)', 'Shutout (Rules of the Game)', '4.3 out of 5 stars', '15,088', '₹419.00'], ['My Darling Bride (The Darlings)', 'My Darling Bride (The Darlings)', '4.3 out of 5 stars', '12,657', '₹129.00'], ['The Fake Out: a fake dating hockey romance (Vancouver Storm Book 2)', 'The Fake Out: a fake dating hockey romance (Vancouver Storm Book 2)', '4.4 out of 5 stars', '21,754', '₹399.00'], ['The Sweet Spot (Playing To Win Book 4)', 'The Sweet Spot (Playing To Win Book 4)', '4.6 out of 5 stars', '1,252', '₹416.00'], ['False Start: A Fake Dating Sports Romance (Red Zone Rivals)', 'False Start: A Fake Dating Sports Romance (Red Zone Rivals)', '4.3 out of 5 stars', '2,727', '₹499.00'], [\"He's Not My Type (The Agitators Series Book 4)\", \"He's Not My Type (The Agitators Series Book 4)\", '4.4 out of 5 stars', '30,276', '₹417.00'], ['All I Need (The Knights Series Book 1)', 'All I Need (The Knights Series Book 1)', '4.4 out of 5 stars', '1,669', '₹331.00'], ['Stand and Defend (Lakes Hockey Series Book 4)', 'Stand and Defend (Lakes Hockey Series Book 4)', '4.5 out of 5 stars', '7,315', '₹413.00'], ['Puck Pact: A Marriage of Convenience Hockey Romance (East Coast Series)', 'Puck Pact: A Marriage of Convenience Hockey Romance (East Coast Series)', '4.5 out of 5 stars', '3,682', '₹414.00'], ['The P*ssy Next Door (The Cocky Kingmans Book 3)', 'The P*ssy Next Door (The Cocky Kingmans Book 3)', '4.3 out of 5 stars', '1,193', '₹299.00'], ['Behind the Net: a grumpy sunshine hockey romance (Vancouver Storm Book 1)', 'Behind the Net: a grumpy sunshine hockey romance (Vancouver Storm Book 1)', '4.2 out of 5 stars', '33,493', '₹347.00'], ['Spin The Bottle: A college romance (Campus Games Book 2)', 'Spin The Bottle: A college romance (Campus Games Book 2)', '4.3 out of 5 stars', '2,375', '₹417.00'], [\"Before We Came: A Brother's Best Friend Hockey Romance (Lakes Hockey Book 1) (Lakes Hockey Series)\", \"Before We Came: A Brother's Best Friend Hockey Romance (Lakes Hockey Book 1) (Lakes Hockey Series)\", '4.1 out of 5 stars', '9,445', '₹413.00'], ['The Golden Goal: A Sweet Rivals to Lovers Hockey RomCom (More Than a Game Book 1)', 'The Golden Goal: A Sweet Rivals to Lovers Hockey RomCom (More Than a Game Book 1)', '4.2 out of 5 stars', '2,505', '₹414.00'], ['Throttled (Dirty Air Series Book 1)', 'Throttled (Dirty Air Series Book 1)', '4.2 out of 5 stars', '25,173', '₹349.00'], ['Would You Rather: A College Romance (Campus Games Book 3)', 'Would You Rather: A College Romance (Campus Games Book 3)', '4.1 out of 5 stars', '446', '₹416.00'], ['Center Ice (Boston Rebels Book 1)', 'Center Ice (Boston Rebels Book 1)', '4.2 out of 5 stars', '4,296', '₹417.00'], ['Off Sides: An MM Friends with Benefits Standalone (Darby U Hockey Boys Book 3)', 'Off Sides: An MM Friends with Benefits Standalone (Darby U Hockey Boys Book 3)', '4.4 out of 5 stars', '996', '₹417.00'], ['Never Have I Ever - A College Romance Book (Campus Games 1)', 'Never Have I Ever - A College Romance Book (Campus Games 1)', '4.0 out of 5 stars', '2,039', '₹417.00'], ['Cocky Score: A Fake Relationship Hockey Romance (The Hawkeyes Hockey Series Book 1)', 'Cocky Score: A Fake Relationship Hockey Romance (The Hawkeyes Hockey Series Book 1)', '4.2 out of 5 stars', '4,088', '₹416.00'], [\"THE CHEAT SHEET: It's the game-changing romantic list to help turn these friends into lovers that became a TikTok sensation!\", \"THE CHEAT SHEET: It's the game-changing romantic list to help turn these friends into lovers that became a TikTok sensation!\", '4.2 out of 5 stars', '18,834', '₹324.00'], ['Meant For Her: A enemies to lovers, single mother, sports romance (Meant for Series Book 2)', 'Meant For Her: A enemies to lovers, single mother, sports romance (Meant for Series Book 2)', '4.6 out of 5 stars', '2,816', '₹417.00'], ['Face Off: A Spicy Rivals to Lovers Hockey Romance (D.C. Stars Book 1)', 'Face Off: A Spicy Rivals to Lovers Hockey Romance (D.C. Stars Book 1)', '4.5 out of 5 stars', '940', '₹332.00'], ['In The Game: A Secret Baby Hockey Romance (Lakes Hockey Series Book 3)', 'In The Game: A Secret Baby Hockey Romance (Lakes Hockey Series Book 3)', '4.4 out of 5 stars', '6,221', '₹413.00'], ['Against All Odds (Holt Hockey Book 2)', 'Against All Odds (Holt Hockey Book 2)', '4.3 out of 5 stars', '4,060', '₹415.00'], ['Fake Shot (Boston Rebels Book 2)', 'Fake Shot (Boston Rebels Book 2)', '4.4 out of 5 stars', '1,150', '₹416.00'], ['Off to the Races: A Small Town Enemies to Lovers Romance (Gold Rush Ranch Book 1)', 'Off to the Races: A Small Town Enemies to Lovers Romance (Gold Rush Ranch Book 1)', '4.1 out of 5 stars', '18,776', '₹419.94'], [\"A Major Puck Up : A Dad's best friend, age gap, single dad romance (The Revenge Games Book 3)\", \"A Major Puck Up : A Dad's best friend, age gap, single dad romance (The Revenge Games Book 3)\", '4.4 out of 5 stars', '0', '₹414.00'], ['Desire or Defense: An Enemies-to-Lovers Hockey Romance (D.C. Eagles Hockey Book 1)', 'Desire or Defense: An Enemies-to-Lovers Hockey Romance (D.C. Eagles Hockey Book 1)', '4.1 out of 5 stars', '6,979', '₹416.00'], ['Breakaway: An Accidental Marriage Hockey Romance (Sinners on the Ice)', 'Breakaway: An Accidental Marriage Hockey Romance (Sinners on the Ice)', '4.2 out of 5 stars', '906', '₹333.00'], [\"Hate You Always: An Enemies-to-Lovers Brother's Teammate New Adult Sports Romance (Western Wildcats Hockey Book 1)\", \"Hate You Always: An Enemies-to-Lovers Brother's Teammate New Adult Sports Romance (Western Wildcats Hockey Book 1)\", '4.2 out of 5 stars', '3,877', '₹499.00'], ['The Puck Decoy (Fairfield U Book 2)', 'The Puck Decoy (Fairfield U Book 2)', '4.3 out of 5 stars', '1,071', '₹333.00'], ['Well and Truly Pucked: A Friends to Lovers Hockey Romance (My Hockey Romance Book 4)', 'Well and Truly Pucked: A Friends to Lovers Hockey Romance (My Hockey Romance Book 4)', '4.1 out of 5 stars', '2,665', '₹416.00'], ['Rookie Recovery: A Slow-Burn MM Hockey Romance (Bobcat Boys Book 1)', 'Rookie Recovery: A Slow-Burn MM Hockey Romance (Bobcat Boys Book 1)', '4.2 out of 5 stars', '736', '₹416.00'], ['Hidden Scars: An MM Hockey Romance (Darby U Hockey Boys Book 1)', 'Hidden Scars: An MM Hockey Romance (Darby U Hockey Boys Book 1)', '4.4 out of 5 stars', '5,111', '₹449.00'], ['Filthy Score: An Enemies-to-Lovers Hockey Romance (The Hawkeyes Hockey Series Book 2)', 'Filthy Score: An Enemies-to-Lovers Hockey Romance (The Hawkeyes Hockey Series Book 2)', '4.3 out of 5 stars', '1,400', '₹449.00'], [\"Watch Your Mouth: A Brother's Best Friend Hockey Romance (Kings of the Ice)\", \"Watch Your Mouth: A Brother's Best Friend Hockey Romance (Kings of the Ice)\", '4.3 out of 5 stars', '7,718', '₹499.00'], ['Dark Delights: A Dark Hockey Bully Romance (Hellions of Hade Harbor Book 2)', 'Dark Delights: A Dark Hockey Bully Romance (Hellions of Hade Harbor Book 2)', '4.5 out of 5 stars', '4,186', '₹449.00'], ['Famous Last Words: A College Hockey Romance (Holt Hockey Book 1)', 'Famous Last Words: A College Hockey Romance (Holt Hockey Book 1)', '4.3 out of 5 stars', '8,642', '₹415.00'], ['Learn Your Lesson: A Single Dad Hockey Romance (Kings of the Ice)', 'Learn Your Lesson: A Single Dad Hockey Romance (Kings of the Ice)', '4.4 out of 5 stars', '6,993', '₹399.00'], ['Burnout (The Holland Brothers Book 1)', 'Burnout (The Holland Brothers Book 1)', '4.2 out of 5 stars', '3,891', '₹499.00'], ['Right Man, Right Time (The Agitators Series Book 3)', 'Right Man, Right Time (The Agitators Series Book 3)', '4.3 out of 5 stars', '39,640', '₹83.00'], ['Meant For Stone (Meant For Series 1)', 'Meant For Stone (Meant For Series 1)', '4.4 out of 5 stars', '3,582', '₹416.00'], ['Caught on Camera: A Spicy Fake Dating Romance (Love through a Lens Book 2)', 'Caught on Camera: A Spicy Fake Dating Romance (Love through a Lens Book 2)', '4.3 out of 5 stars', '2,226', '₹332.00'], ['Mother Maker', 'Mother Maker', '4.4 out of 5 stars', '4,446', '₹416.00'], ['THE SILENT PATIENT [Paperback] Michaelides, Alex', 'THE SILENT PATIENT [Paperback] Michaelides, Alex', '4.5 out of 5 stars', '308,753', '₹229.00'], ['VERITY [Paperback] Hoover, Colleen', 'VERITY [Paperback] Hoover, Colleen', '4.3 out of 5 stars', '285,058', '₹229.00'], ['The Housemaid : An addictive psychological thriller with mind-bending twists', 'The Housemaid : An addictive psychological thriller with mind-bending twists', '4.4 out of 5 stars', '300,122', '₹254.00'], [\"A Good Girl's Guide to Murder (Box Set of 3 Books)\", \"A Good Girl's Guide to Murder (Box Set of 3 Books)\", '4.6 out of 5 stars', '2,098', '₹785.00'], ['That Night: Four Friends, Twenty Years,', 'That Night: Four Friends, Twenty Years,', '4.3 out of 5 stars', '2,828', '₹164.00'], ['Silent Vows: A Mafia Arranged Marriage Romance (The Byrne Brothers Book 1)', 'Silent Vows: A Mafia Arranged Marriage Romance (The Byrne Brothers Book 1)', '4.2 out of 5 stars', '20,174', '₹399.00'], [\"Kunex It Ends With Us : ''Sometimes The One Who Loves You Is The One Who Hurts You The Most''\", \"Kunex It Ends With Us : ''Sometimes The One Who Loves You Is The One Who Hurts You The Most''\", '4.5 out of 5 stars', '295,741', '₹299.00'], ['Hidden Hindu, The (Book 1)', 'Hidden Hindu, The (Book 1)', '4.5 out of 5 stars', '3,950', '₹197.00'], ['The Housemaid Is Watching: An absolutely gripping psychological thriller packed with twists', 'The Housemaid Is Watching: An absolutely gripping psychological thriller packed with twists', '4.2 out of 5 stars', '37,728', '₹364.00'], ['Trust No One: A suspenseful, completely addictive psychological thriller from TOP 10 BESTSELLER Keri Beevis', 'Trust No One: A suspenseful, completely addictive psychological thriller from TOP 10 BESTSELLER Keri Beevis', '4.3 out of 5 stars', '3,136', '₹232.11'], ['The Hidden Hindu Book 2', 'The Hidden Hindu Book 2', '4.6 out of 5 stars', '2,220', '₹190.00'], ['The Housemaid: An absolutely addictive psychological thriller with a jaw-dropping twist', 'The Housemaid: An absolutely addictive psychological thriller with a jaw-dropping twist', '4.4 out of 5 stars', '300,122', '₹249.00'], ['The Hidden Hindu Book 3', 'The Hidden Hindu Book 3', '4.6 out of 5 stars', '1,853', '₹209.00'], ['The Complete Novels of Sherlock Holmes', 'The Complete Novels of Sherlock Holmes', '4.4 out of 5 stars', '20,570', '₹189.00'], ['Crime And Punishment', 'Crime And Punishment', '4.5 out of 5 stars', '14,130', '₹239.00'], ['And Then There Were None: The World’s Favourite Agatha Christie Book', 'And Then There Were None: The World’s Favourite Agatha Christie Book', '4.6 out of 5 stars', '4,911', '₹259.00'], ['God of Malice: A Dark College Romance (Legacy of Gods Book 1)', 'God of Malice: A Dark College Romance (Legacy of Gods Book 1)', '4.4 out of 5 stars', '33,132', '₹449.00'], ['Drawn To Darkness (Kings Of Mafia)', 'Drawn To Darkness (Kings Of Mafia)', '4.4 out of 5 stars', '3,953', '₹417.00'], ['The Hidden Hindu 1 (Hidden Hindu Story from our Ancient Indian Mythology) Hindi Translation of Hidden Hindu Part 1', 'The Hidden Hindu 1 (Hidden Hindu Story from our Ancient Indian Mythology) Hindi Translation of Hidden Hindu Part 1', '4.5 out of 5 stars', '2,413', '₹130.00'], ['Best Books Series Set of 3 Hidden Hindu Triology | The Hidden Hindu + The Hidden Hindu 2 + The Hidden Hindu 3 | Saat Chiranjeevi \"सात चिरंजीवी\" Book in Hindi by Akshat Gupta- PB', 'Best Books Series Set of 3 Hidden Hindu Triology | The Hidden Hindu + The Hidden Hindu 2 + The Hidden Hindu 3 | Saat Chiranjeevi \"सात चिरंजीवी\" Book in Hindi by Akshat Gupta- PB', '4.4 out of 5 stars', '388', '₹499.00'], ['Good Girl, Bad Blood - The Sunday Times Bestseller And Seque', 'Good Girl, Bad Blood - The Sunday Times Bestseller And Seque', '4.5 out of 5 stars', '5,195', '₹274.00'], [\"The Housemaid's Secret: A totally gripping psychological thriller with a shocking twist\", \"The Housemaid's Secret: A totally gripping psychological thriller with a shocking twist\", '4.3 out of 5 stars', '163,780', '₹299.00'], ['Never Lie: A Totally Gripping Thriller with Mind-bending Twists', 'Never Lie: A Totally Gripping Thriller with Mind-bending Twists', '4.3 out of 5 stars', '0', '₹285.00'], ['AS GOOD AS DEAD', 'AS GOOD AS DEAD', '4.5 out of 5 stars', '17,225', '₹327.00'], ['Girl Who Knew Too Much, The: What if the Loved One You Lost Were to Come Back?', 'Girl Who Knew Too Much, The: What if the Loved One You Lost Were to Come Back?', '4.1 out of 5 stars', '2,483', '₹132.00'], ['FIVE SURVIVE', 'FIVE SURVIVE', '4.3 out of 5 stars', '5,539', '₹278.00'], ['Mrityunjay: Maha-Asura Series: Book 1', 'Mrityunjay: Maha-Asura Series: Book 1', '4.7 out of 5 stars', '0', '₹179.00'], ['Samsara: Enter The Valley Of The Gods', 'Samsara: Enter The Valley Of The Gods', '4.3 out of 5 stars', '1,237', '₹145.00'], ['Tempted By The Devil (Kings Of Mafia)', 'Tempted By The Devil (Kings Of Mafia)', '4.1 out of 5 stars', '16,899', '₹416.00'], ['Haunting Adeline (Cat and Mouse Duet Book 1)', 'Haunting Adeline (Cat and Mouse Duet Book 1)', '4.3 out of 5 stars', '90,932', '₹261.00'], ['The Hidden Hindu Boxset', 'The Hidden Hindu Boxset', '4.4 out of 5 stars', '4', '₹543.00'], ['The Mistress: A completely addictive, gripping psychological thriller from NUMBER ONE BESTSELLER Valerie Keogh for 2024', 'The Mistress: A completely addictive, gripping psychological thriller from NUMBER ONE BESTSELLER Valerie Keogh for 2024', '4.1 out of 5 stars', '2,219', '₹86.71'], ['Never Lie', 'Never Lie', '4.3 out of 5 stars', '157,522', '₹285.00'], ['400 Days', '400 Days', '4.4 out of 5 stars', '11,488', '₹206.00'], ['The Teacher: A Psychological Thriller', 'The Teacher: A Psychological Thriller', '4.3 out of 5 stars', '111,935', '₹331.00'], ['The Girl In Room 105', 'The Girl In Room 105', '4.2 out of 5 stars', '30,573', '₹173.00'], ['The Best of Sherlock Holmes (Set of 2 Books)', 'The Best of Sherlock Holmes (Set of 2 Books)', '4.6 out of 5 stars', '0', '₹359.00'], ['War Of Lanka (Ram Chandra Series Book 4)', 'War Of Lanka (Ram Chandra Series Book 4)', '4.3 out of 5 stars', '6,225', '₹322.69'], ['God of Pain: A Grumpy Sunshine College Romance (Legacy of Gods Book 2)', 'God of Pain: A Grumpy Sunshine College Romance (Legacy of Gods Book 2)', '4.3 out of 5 stars', '18,980', '₹449.00'], ['Hunted By A Shadow (Kings Of Mafia)', 'Hunted By A Shadow (Kings Of Mafia)', '4.3 out of 5 stars', '6,890', '₹415.00'], ['Nowhere to Hide: A BRAND NEW completely gripping psychological thriller from TOP 10 BESTSELLER Keri Beevis for 2024', 'Nowhere to Hide: A BRAND NEW completely gripping psychological thriller from TOP 10 BESTSELLER Keri Beevis for 2024', '4.6 out of 5 stars', '839', '₹86.71'], ['The Housemaids Secret', 'The Housemaids Secret', '4.3 out of 5 stars', '163,780', '₹310.00'], ['The Silent Patient: The record-breaking, multimillion copy Sunday Times bestselling thriller and TikTok sensation', 'The Silent Patient: The record-breaking, multimillion copy Sunday Times bestselling thriller and TikTok sensation', '4.5 out of 5 stars', '308,753', '₹180.50'], ['Anxious People', 'Anxious People', '4.5 out of 5 stars', '69,062', '₹373.00'], ['The Sweetest Oblivion (Made Book 1)', 'The Sweetest Oblivion (Made Book 1)', '4.3 out of 5 stars', '48,778', '₹296.00'], ['Craving Danger (Kings Of Mafia)', 'Craving Danger (Kings Of Mafia)', '4.4 out of 5 stars', '8,433', '₹416.00'], ['Yellowface: The instant #1 Sunday Times bestseller and Reese Witherspoon Book Club pick from author R.F. Kuang', 'Yellowface: The instant #1 Sunday Times bestseller and Reese Witherspoon Book Club pick from author R.F. Kuang', '4.0 out of 5 stars', '0', '₹259.00'], ['If We Were Villains Paperback By Rio 2024', 'If We Were Villains Paperback By Rio 2024', '4.3 out of 5 stars', '9,458', '₹135.00'], ['Butter: The Cult new Japanese Bestselling Novel', 'Butter: The Cult new Japanese Bestselling Novel', '4.0 out of 5 stars', '674', '₹389.00'], ['Set of 3 Books Hidden Hindu Triology Based on Hindu Mythology | The Hidden Hindu 1,2,3 \"द हिडन हिंदू-1,2,3 | Premium Deluxe Edition Book in Hindi | Akshat Gupta', 'Set of 3 Books Hidden Hindu Triology Based on Hindu Mythology | The Hidden Hindu 1,2,3 \"द हिडन हिंदू-1,2,3 | Premium Deluxe Edition Book in Hindi | Akshat Gupta', '4.4 out of 5 stars', '388', '₹670.00']], [['Amma Diarylo Konni Pageelu', 'Amma Diarylo Konni Pageelu', '4.9 out of 5 stars', '0', '₹200.00'], ['SILVA MIND CONTROL METHOD', 'SILVA MIND CONTROL METHOD', '4.4 out of 5 stars', '0', '₹229.00'], ['Do It Today: Overcome procrastination, improve productivity and achieve more meaningful things [Paperback] Foroux, Darius', 'Do It Today: Overcome procrastination, improve productivity and achieve more meaningful things [Paperback] Foroux, Darius', '4.4 out of 5 stars', '9,357', '₹131.00'], ['THE 48 LAWS OF POWER [Paperback] Greene, Robert', 'THE 48 LAWS OF POWER [Paperback] Greene, Robert', '4.6 out of 5 stars', '20,557', '₹614.00'], ['The Constitution of India (Deluxe Hardbound Edition) (Latest and Updated)', 'The Constitution of India (Deluxe Hardbound Edition) (Latest and Updated)', '4.6 out of 5 stars', '0', '₹399.00'], ['All In One Social Science CBSE Class 9th Based On Latest NCERT For CBSE Exams 2025 | Mind map in each chapter | Clear & Concise Theory | Intext & Chapter Exercises | Sample Question Papers', 'All In One Social Science CBSE Class 9th Based On Latest NCERT For CBSE Exams 2025 | Mind map in each chapter | Clear & Concise Theory | Intext & Chapter Exercises | Sample Question Papers', '4.2 out of 5 stars', '0', '₹338.00'], ['Oxford Pocket English Dictionary - 11th Edition | For Everyday Use | 2 Billion + Words', 'Oxford Pocket English Dictionary - 11th Edition | For Everyday Use | 2 Billion + Words', '4.5 out of 5 stars', '3,819', '₹379.00'], ['You Can', 'You Can', '4.3 out of 5 stars', '5,439', '₹105.00'], ['Writing Practice Boxset: Pack of 4 Books (Writing Fun: Write And Practice Capital Letters, Small Letters, Patterns and Numbers 1 to 10)', 'Writing Practice Boxset: Pack of 4 Books (Writing Fun: Write And Practice Capital Letters, Small Letters, Patterns and Numbers 1 to 10)', '4.3 out of 5 stars', '12,572', '₹199.00'], ['SSC Maths 6800+ TCS MCQ Chapter-Wise Coverage with detailed explanation & short tricks | 6th edition | SSC | CGL Tier (I/II) | CHSL | MTS | CPO | STENO | Selection post | SSC JE | Other Govt. exam | English medium', 'SSC Maths 6800+ TCS MCQ Chapter-Wise Coverage with detailed explanation & short tricks | 6th edition | SSC | CGL Tier (I/II) | CHSL | MTS | CPO | STENO | Selection post | SSC JE | Other Govt. exam | English medium', '4.2 out of 5 stars', '0', '₹499.00'], ['Mathematics class 9th and MCQs - by R.D. Sharma (2024-25 Examination)', 'Mathematics class 9th and MCQs - by R.D. Sharma (2024-25 Examination)', '4.3 out of 5 stars', '130', '₹400.00'], ['My First 1000 Words: Early Learning Picture Book to learn Alphabet, Numbers, Shapes and Colours, Transport, Birds and Animals, Professions, Opposite Words, Action Words, Parts of the body and Objects Around Us.', 'My First 1000 Words: Early Learning Picture Book to learn Alphabet, Numbers, Shapes and Colours, Transport, Birds and Animals, Professions, Opposite Words, Action Words, Parts of the body and Objects Around Us.', '4.5 out of 5 stars', '8,965', '₹189.00'], ['The 5 AM Club', 'The 5 AM Club', '4.5 out of 5 stars', '32,762', '₹238.00'], ['Picture Books Collection for Early Learning (Set of 12)', 'Picture Books Collection for Early Learning (Set of 12)', '4.3 out of 5 stars', '19,903', '₹239.00'], ['Think Straight: Change your thoughts, Change your life [Paperback] Foroux, Darius', 'Think Straight: Change your thoughts, Change your life [Paperback] Foroux, Darius', '4.2 out of 5 stars', '13,713', '₹131.00'], ['Three Thousand Stitches: Ordinary People, Extraordinary Lives [Paperback] Murty, Sudha', 'Three Thousand Stitches: Ordinary People, Extraordinary Lives [Paperback] Murty, Sudha', '4.6 out of 5 stars', '0', '₹164.00'], ['MTG 37 Years NEET Previous Year Solved Question Papers with NEET PYQ Chapterwise Topicwise Solutions Physics, Chemistry, Biology For NEET 2025 Exam | Get Free access of Smart Book & Video Solutions', 'MTG 37 Years NEET Previous Year Solved Question Papers with NEET PYQ Chapterwise Topicwise Solutions Physics, Chemistry, Biology For NEET 2025 Exam | Get Free access of Smart Book & Video Solutions', '4.4 out of 5 stars', '30', '₹909.00'], ['White Nights', 'White Nights', '4.4 out of 5 stars', '1,930', '₹124.00'], ['My First Shaped Board book - Elephant, Die-Cut Animals, Picture Book for Children', 'My First Shaped Board book - Elephant, Die-Cut Animals, Picture Book for Children', '4.5 out of 5 stars', '856', '₹99.00'], ['SSC latest General Studies 6500+ TCS MCQ Chapter Wise 6th edition with detailed explanation english medium', 'SSC latest General Studies 6500+ TCS MCQ Chapter Wise 6th edition with detailed explanation english medium', '4.5 out of 5 stars', '0', '₹499.00'], ['1001 Ultimate Brain Booster Activities for 4+ Years Old Kids |Enhance the Child Mind with Cognitive Excellence with Interactive Activity Book', '1001 Ultimate Brain Booster Activities for 4+ Years Old Kids |Enhance the Child Mind with Cognitive Excellence with Interactive Activity Book', '4.6 out of 5 stars', '0', '₹302.00'], ['VERITY [Paperback] Hoover, Colleen', 'VERITY [Paperback] Hoover, Colleen', '4.3 out of 5 stars', '285,058', '₹229.00'], ['All In One ENGLISH CORE Class 11th Based On Latest NCERT For CBSE Exams 2025 | Mind map in each chapter | Clear & Concise Theory | Intext & Chapter Exercises | Sample Question Papers', 'All In One ENGLISH CORE Class 11th Based On Latest NCERT For CBSE Exams 2025 | Mind map in each chapter | Clear & Concise Theory | Intext & Chapter Exercises | Sample Question Papers', '4.2 out of 5 stars', '13', '₹303.00'], ['SSC TCS PYQs Reasoning Chapterwise & Typewise Solved Papers 12950+ Till - December 2023 :TCS PYQs of Cgl Tier 1;Cgl Tier 2;CPO;Chsl;Dp Si;Dp Constable;Mts;Constable Gd Covered (English Medium)(4606)', 'SSC TCS PYQs Reasoning Chapterwise & Typewise Solved Papers 12950+ Till - December 2023 :TCS PYQs of Cgl Tier 1;Cgl Tier 2;CPO;Chsl;Dp Si;Dp Constable;Mts;Constable Gd Covered (English Medium)(4606)', '4.3 out of 5 stars', '0', '₹537.00'], ['Quantitative Aptitude for CAT |10th Edition|Quant| CAT 2024 Exam', 'Quantitative Aptitude for CAT |10th Edition|Quant| CAT 2024 Exam', '4.5 out of 5 stars', '0', '₹750.00'], ['Quantitative Aptitude for Competitive Examinations All Government and Entrance Exams (Banking, SSC, Railway, Police, Civil Service, etc.) 40 Videos | 2000+ Solved Examples | 10000+ Practice Questions', 'Quantitative Aptitude for Competitive Examinations All Government and Entrance Exams (Banking, SSC, Railway, Police, Civil Service, etc.) 40 Videos | 2000+ Solved Examples | 10000+ Practice Questions', '4.4 out of 5 stars', '2,531', '₹549.00'], ['The Housemaid : An addictive psychological thriller with mind-bending twists', 'The Housemaid : An addictive psychological thriller with mind-bending twists', '4.4 out of 5 stars', '300,122', '₹254.00'], ['The Mountain Is You: Transforming Self-Sabotage Into Self-Mastery', 'The Mountain Is You: Transforming Self-Sabotage Into Self-Mastery', '4.2 out of 5 stars', '18,267', '₹259.00'], [\"A Good Girl's Guide to Murder (Box Set of 3 Books)\", \"A Good Girl's Guide to Murder (Box Set of 3 Books)\", '4.6 out of 5 stars', '2,098', '₹785.00'], ['Logical Reasoning for CAT | 7th Edition|LR| CAT 2024 Exam', 'Logical Reasoning for CAT | 7th Edition|LR| CAT 2024 Exam', '4.4 out of 5 stars', '304', '₹626.00'], ['Stop Overthinking', 'Stop Overthinking', '4.4 out of 5 stars', '10,331', '₹145.00'], ['Price Action Trading : Technical Analysis Simplified! by Sunil Gurjar (Chartmojo) - Chart Patterns | Candlestick Patterns | Breakout Patterns & Lot More !', 'Price Action Trading : Technical Analysis Simplified! by Sunil Gurjar (Chartmojo) - Chart Patterns | Candlestick Patterns | Breakout Patterns & Lot More !', '4.3 out of 5 stars', '0', '₹312.00'], ['Shrimad Bhagwat Geeta Yatharoop (Hindi)', 'Shrimad Bhagwat Geeta Yatharoop (Hindi)', '4.8 out of 5 stars', '19,597', '₹232.00'], ['NCERT BOOK , Hornbill Textbook in English ,Snapshots Supplementary Reader in English for Class-XI (Core Course) ,[COMBO PACK]', 'NCERT BOOK , Hornbill Textbook in English ,Snapshots Supplementary Reader in English for Class-XI (Core Course) ,[COMBO PACK]', '4.3 out of 5 stars', '0', '₹74.90'], ['Oxford Mini English Dictionary | Easy To Use | Extra Help with Spelling, Grammar and Vocabulary | 7th Edition', 'Oxford Mini English Dictionary | Easy To Use | Extra Help with Spelling, Grammar and Vocabulary | 7th Edition', '4.4 out of 5 stars', '4,742', '₹175.00'], ['kunex Lucifer was Innocent : The Red Pill by Tirth Raj Parsana', 'kunex Lucifer was Innocent : The Red Pill by Tirth Raj Parsana', '3.8 out of 5 stars', '165', '₹299.00'], ['Energize Your Mind: Learn the Art of Mastering Your Thoughts, Feelings and Emotions', 'Energize Your Mind: Learn the Art of Mastering Your Thoughts, Feelings and Emotions', '4.6 out of 5 stars', '3,752', '₹196.00'], [\"Professional'S New Criminal Laws Combo: Bharatiya Nagarik Suraksha Sanhita, 2023 (Bnss), Bharatiya Nyaya Sanhita, 2023 (Bns), Bharatiya Sakshya Adhiniyam, 2023 (Bsa)- 3 Bare Acts Combo\", \"Professional'S New Criminal Laws Combo: Bharatiya Nagarik Suraksha Sanhita, 2023 (Bnss), Bharatiya Nyaya Sanhita, 2023 (Bns), Bharatiya Sakshya Adhiniyam, 2023 (Bsa)- 3 Bare Acts Combo\", '4.5 out of 5 stars', '0', '₹450.00'], ['Problems in Physical Chemistry for JEE (Main & Advanced) - 17/Edition, 2024', 'Problems in Physical Chemistry for JEE (Main & Advanced) - 17/Edition, 2024', '4.3 out of 5 stars', '51', '₹518.00'], ['The Almanack Of Naval Ravikant: A Guide to Wealth and Happiness', 'The Almanack Of Naval Ravikant: A Guide to Wealth and Happiness', '4.6 out of 5 stars', '18,278', '₹239.00'], ['The Subtle Art of Not Giving A F*ck : A Counterintuitive Approach To Living A Good Life', 'The Subtle Art of Not Giving A F*ck : A Counterintuitive Approach To Living A Good Life', '4.5 out of 5 stars', '143,587', '₹327.00'], ['My First 4 In 1 Alphabet Numbers Colours Shapes: Padded Board Books', 'My First 4 In 1 Alphabet Numbers Colours Shapes: Padded Board Books', '4.3 out of 5 stars', '5,940', '₹172.00'], ['The Kid Who Came From Space', 'The Kid Who Came From Space', '4.5 out of 5 stars', '3,235', '₹259.00'], [\"Tuesdays With Morrie: An old man, a young man, and life's greatest lesson [Paperback] Albom, Mitch\", \"Tuesdays With Morrie: An old man, a young man, and life's greatest lesson [Paperback] Albom, Mitch\", '4.6 out of 5 stars', '26,882', '₹164.00'], ['1800+ Reward Stickers - Ideal For Teachers And Parents : Sticker Book With Over 1800 Stickers To Boost The Morale of Kids', '1800+ Reward Stickers - Ideal For Teachers And Parents : Sticker Book With Over 1800 Stickers To Boost The Morale of Kids', '4.5 out of 5 stars', '2,211', '₹141.00'], ['Days at the Morisaki Bookshop : A charming and uplifting Japanese translated story on the healing power of books', 'Days at the Morisaki Bookshop : A charming and uplifting Japanese translated story on the healing power of books', '4.3 out of 5 stars', '3,613', '₹229.00'], [\"Man's Search For Meaning: The classic tribute to hope from the Holocaust\", \"Man's Search For Meaning: The classic tribute to hope from the Holocaust\", '4.5 out of 5 stars', '0', '₹226.00'], ['UPSC Wala Love: Collector Sahiba (Hindi)', 'UPSC Wala Love: Collector Sahiba (Hindi)', '4.2 out of 5 stars', '385', '₹190.00'], ['Brain Activity Book for Kids - 200+ Activities for Age 3+ - Kids Activity Book - Early Learning - Activities for Children - Maths, English, Mazes, Spot the Differences, Word Search - Activity Book for 5 Year Old', 'Brain Activity Book for Kids - 200+ Activities for Age 3+ - Kids Activity Book - Early Learning - Activities for Children - Maths, English, Mazes, Spot the Differences, Word Search - Activity Book for 5 Year Old', '4.4 out of 5 stars', '5,638', '₹95.00'], ['A Song of Ice and Fire - A Game of Thrones: The Complete Boxset of 7 Books', 'A Song of Ice and Fire - A Game of Thrones: The Complete Boxset of 7 Books', '4.6 out of 5 stars', '9,709', '₹2,851.00'], ['Six of Crows: Crooked Kingdom', 'Six of Crows: Crooked Kingdom', '4.7 out of 5 stars', '37,818', '₹299.00'], ['WABI SABI: JAPANESE WISDOM FOR A PERFECTLY IMPERFECT LIFE', 'WABI SABI: JAPANESE WISDOM FOR A PERFECTLY IMPERFECT LIFE', '4.4 out of 5 stars', '2,714', '₹427.00'], ['Angels and Demons: (Robert Langdon Book 1) [Paperback] Dan Brown', 'Angels and Demons: (Robert Langdon Book 1) [Paperback] Dan Brown', '4.6 out of 5 stars', '0', '₹319.00'], ['BE BRAVE LITTLE PENGUIN', 'BE BRAVE LITTLE PENGUIN', '4.8 out of 5 stars', '0', '₹310.00'], [\"Harry Potter and the Philosopher's Stone: Illustrated [Kindle in Motion] (Illustrated Harry Potter Book 1)\", \"Harry Potter and the Philosopher's Stone: Illustrated [Kindle in Motion] (Illustrated Harry Potter Book 1)\", '4.8 out of 5 stars', '30,213', '₹313.95'], ['STRANGER', 'STRANGER', '4.6 out of 5 stars', '10,395', '₹323.00'], ['As Long As the Lemon Trees Grow', 'As Long As the Lemon Trees Grow', '4.6 out of 5 stars', '2,843', '₹352.00'], ['Tilda Tries Again: A Big Bright Feelings Book', 'Tilda Tries Again: A Big Bright Feelings Book', '4.7 out of 5 stars', '457', '₹214.94'], ['The Complete Adventures of Feluda Vol. 1 [Paperback] Satyajit Ray', 'The Complete Adventures of Feluda Vol. 1 [Paperback] Satyajit Ray', '4.7 out of 5 stars', '1,463', '₹390.00'], ['The Dhoni Touch', 'The Dhoni Touch', '4.5 out of 5 stars', '0', '₹194.00'], ['Nagaon Ka Rahasya (The Secret of the Nagas)', 'Nagaon Ka Rahasya (The Secret of the Nagas)', '4.4 out of 5 stars', '0', '₹259.00'], ['Harry Potter and the Philosopher’s Stone: MinaLima Edition', 'Harry Potter and the Philosopher’s Stone: MinaLima Edition', '4.7 out of 5 stars', '6,843', '₹2,080.00'], ['The Hidden Hindu', 'The Hidden Hindu', '4.5 out of 5 stars', '3,950', '₹156.94'], ['The Nightingale', 'The Nightingale', '4.6 out of 5 stars', '303,518', '₹341.00'], ['Gopi Diaries: Finding Love', 'Gopi Diaries: Finding Love', '4.8 out of 5 stars', '0', '₹227.00'], ['The Oath Of The Vayuputras (Shiva Trilogy Book 3) (Shiva Trilogy, 3)', 'The Oath Of The Vayuputras (Shiva Trilogy Book 3) (Shiva Trilogy, 3)', '4.6 out of 5 stars', '10,630', '₹324.00'], ['Vayuputron Ki Shapath (Oath Of The Vayuputras)', 'Vayuputron Ki Shapath (Oath Of The Vayuputras)', '4.5 out of 5 stars', '39', '₹324.00'], ['Meesha Makes Friends', 'Meesha Makes Friends', '4.8 out of 5 stars', '838', '₹179.00'], ['Hogwarts: An Incomplete and Unreliable Guide (Kindle Single) (Pottermore Presents Book 3)', 'Hogwarts: An Incomplete and Unreliable Guide (Kindle Single) (Pottermore Presents Book 3)', '4.5 out of 5 stars', '16,728', '₹103.95'], ['Scorned Vows: An Arranged Marriage Romance (Scorned Fate)', 'Scorned Vows: An Arranged Marriage Romance (Scorned Fate)', '4.4 out of 5 stars', '4,139', '₹417.00'], ['Georges Marvellous Medicine -Reissues', 'Georges Marvellous Medicine -Reissues', '4.6 out of 5 stars', '8,874', '₹223.00'], ['Welcome to the Hyunam-dong Bookshop (EPZ)', 'Welcome to the Hyunam-dong Bookshop (EPZ)', '4.3 out of 5 stars', '0', '₹419.00'], ['On Earth Were Briefly Gorgeous', 'On Earth Were Briefly Gorgeous', '4.4 out of 5 stars', '18,913', '₹357.00'], ['Sita: Warrior Of Mithila (Ram Chandra Series Book 2) (Ram Chandra, 2)', 'Sita: Warrior Of Mithila (Ram Chandra Series Book 2) (Ram Chandra, 2)', '4.4 out of 5 stars', '17,652', '₹259.00'], ['The Everyday Hero Manifesto', 'The Everyday Hero Manifesto', '4.6 out of 5 stars', '2,751', '₹297.00'], ['THE WAY HOME FOR WOLF BOARD BOOK', 'THE WAY HOME FOR WOLF BOARD BOOK', '4.8 out of 5 stars', '1,957', '₹267.00'], ['Origin', 'Origin', '4.2 out of 5 stars', '0', '₹319.00'], [\"First Lie Wins: The addictive Sunday Times Thriller of the Month with a devious twist you won't see coming\", \"First Lie Wins: The addictive Sunday Times Thriller of the Month with a devious twist you won't see coming\", '4.3 out of 5 stars', '47,804', '₹412.00'], ['Diary of a Wimpy Kid: Diper Overloade (Book 17)', 'Diary of a Wimpy Kid: Diper Overloade (Book 17)', '4.5 out of 5 stars', '12,307', '₹368.00'], ['மின்னலே நீ வந்ததேனடி (பாகம் 1) (Tamil Edition)', 'மின்னலே நீ வந்ததேனடி (பாகம் 1) (Tamil Edition)', '4.1 out of 5 stars', '141', '₹255.00'], ['Best of Tinkle Single Digest Comic Books in English | Pack of 10 | Tales from Suppandi and Tantri Mantri inside | Assorted Collection', 'Best of Tinkle Single Digest Comic Books in English | Pack of 10 | Tales from Suppandi and Tantri Mantri inside | Assorted Collection', '4.3 out of 5 stars', '0', '₹699.00'], ['DORK DIARIES : I LOVE PARIS!', 'DORK DIARIES : I LOVE PARIS!', '4.6 out of 5 stars', '0', '₹194.00'], ['THE GUIDE, R.K. Narayan', 'THE GUIDE, R.K. Narayan', '4.5 out of 5 stars', '1,263', '₹150.00'], ['House of Flame and Shadow', 'House of Flame and Shadow', '4.6 out of 5 stars', '79,428', '₹400.00'], ['Baby Touch: Seasons: A touch-and-feel playbook [Board book] Ladybird', 'Baby Touch: Seasons: A touch-and-feel playbook [Board book] Ladybird', '4.5 out of 5 stars', '266', '₹299.00'], ['Fire and Blood: The inspiration for HBO and Sky TV series HOUSE OF THE DRAGON from the internationally bestselling creator of GAME OF THRONES (A Song of Ice and Fire)', 'Fire and Blood: The inspiration for HBO and Sky TV series HOUSE OF THE DRAGON from the internationally bestselling creator of GAME OF THRONES (A Song of Ice and Fire)', '4.5 out of 5 stars', '31,236', '₹502.90'], [\"Oliver Twist by Charles Dickens - Classic Literature | A Gripping Exploration of Survival and the Power of Resilience | A Masterpiece of Victorian Era | Social Injustice | Poverty and Crime | Redemption | Dickens' Masterpiece\", \"Oliver Twist by Charles Dickens - Classic Literature | A Gripping Exploration of Survival and the Power of Resilience | A Masterpiece of Victorian Era | Social Injustice | Poverty and Crime | Redemption | Dickens' Masterpiece\", '4.4 out of 5 stars', '12,156', '₹194.00'], ['Robinson Crusoe', 'Robinson Crusoe', '4.4 out of 5 stars', '5,206', '₹159.00'], ['Where the Crawdads Sing', 'Where the Crawdads Sing', '4.5 out of 5 stars', '504,473', '₹318.00'], ['Heart of Darkness', 'Heart of Darkness', '4.4 out of 5 stars', '7,503', '₹119.00'], ['THE MAIDENS: The instant Sunday Times bestseller from the author of The Silent Patient', 'THE MAIDENS: The instant Sunday Times bestseller from the author of The Silent Patient', '4.1 out of 5 stars', '25,565', '₹324.00'], ['Good Omens', 'Good Omens', '4.5 out of 5 stars', '33,807', '₹336.00'], ['Same Soul, Many Bodies [Paperback] Weiss, Dr. Brian', 'Same Soul, Many Bodies [Paperback] Weiss, Dr. Brian', '4.6 out of 5 stars', '0', '₹163.00'], ['Descendants 1', 'Descendants 1', '4.5 out of 5 stars', '69', '₹145.00'], ['Ruby’s Worry: A Big Bright Feelings Book', 'Ruby’s Worry: A Big Bright Feelings Book', '4.7 out of 5 stars', '3,349', '₹214.94'], ['Lethal Vows: Enemies to Lovers Arranged Marriage Mafia Romance', 'Lethal Vows: Enemies to Lovers Arranged Marriage Mafia Romance', '4.2 out of 5 stars', '5,814', '₹417.00'], ['The Law of Attraction and Practical Mental Influence | The Power of Thought Vibrations for Personal Growth Success Goal Achievement Manifestation | Power of Subconscious Mind | William Walker Atkinson', 'The Law of Attraction and Practical Mental Influence | The Power of Thought Vibrations for Personal Growth Success Goal Achievement Manifestation | Power of Subconscious Mind | William Walker Atkinson', '4.4 out of 5 stars', '232', '₹145.00'], ['Gullivers Travels', 'Gullivers Travels', '4.3 out of 5 stars', '1,161', '₹158.00'], [\"Vayuputron ki Shapath [Vayuputron's Oath]\", \"Vayuputron ki Shapath [Vayuputron's Oath]\", '4.6 out of 5 stars', '0', '₹245.00'], [\"Puck Block : A Brother's Best Friend Hockey Romance (Bexley U)\", \"Puck Block : A Brother's Best Friend Hockey Romance (Bexley U)\", '4.3 out of 5 stars', '2,705', '₹416.00'], ['Mother Faker', 'Mother Faker', '4.4 out of 5 stars', '6,642', '₹416.00'], ['Strong and Wild: An Enemies to Lovers Hockey Romance (Lakes Hockey Book 2) (Lakes Hockey Series)', 'Strong and Wild: An Enemies to Lovers Hockey Romance (Lakes Hockey Book 2) (Lakes Hockey Series)', '4.3 out of 5 stars', '6,173', '₹413.00'], ['The Perfect Putt: A Sweet Boss/Assistant Golf RomCom (More Than a Game Book 2)', 'The Perfect Putt: A Sweet Boss/Assistant Golf RomCom (More Than a Game Book 2)', '4.4 out of 5 stars', '445', '₹416.00'], [\"Bad Boy's Virgin Romance Series Box Set\", \"Bad Boy's Virgin Romance Series Box Set\", '4.3 out of 5 stars', '148', '₹83.00'], ['Bromantic Puckboy (Puckboys Book 6)', 'Bromantic Puckboy (Puckboys Book 6)', '4.5 out of 5 stars', '3,536', '₹449.00'], ['Offside Hearts (Love and Hockey Book 1)', 'Offside Hearts (Love and Hockey Book 1)', '4.2 out of 5 stars', '6,901', '₹599.00'], [\"Kiss and Don't Tell (The Agitators Series Book 1)\", \"Kiss and Don't Tell (The Agitators Series Book 1)\", '4.3 out of 5 stars', '27,823', '₹416.00'], ['Pucking Revenge : A Fake dating, friends to lovers, hockey romance (The Revenge Games Book 2)', 'Pucking Revenge : A Fake dating, friends to lovers, hockey romance (The Revenge Games Book 2)', '4.3 out of 5 stars', '3,657', '₹414.00'], ['The End Zone (Out Of Bounds Book 2)', 'The End Zone (Out Of Bounds Book 2)', '4.1 out of 5 stars', '933', '₹414.00'], ['Fierce Obsession: A Dark Hockey Romance (Hockey Gods)', 'Fierce Obsession: A Dark Hockey Romance (Hockey Gods)', '4.4 out of 5 stars', '4,001', '₹449.00'], ['The Puck Secret (Fairfield U Book 1)', 'The Puck Secret (Fairfield U Book 1)', '4.4 out of 5 stars', '5,722', '₹328.00'], ['Awake At Dawn (Wildflower Series Book 2)', 'Awake At Dawn (Wildflower Series Book 2)', '4.5 out of 5 stars', '1,124', '₹332.00'], ['Boarded Hearts: A reformed playboy and single mom hockey romance : Seattle Scorpions Series Book 1', 'Boarded Hearts: A reformed playboy and single mom hockey romance : Seattle Scorpions Series Book 1', '4.0 out of 5 stars', '707', '₹375.00'], ['Wildcat: A Forbidden Sports Romance (Wildcat Hockey Book 1)', 'Wildcat: A Forbidden Sports Romance (Wildcat Hockey Book 1)', '4.2 out of 5 stars', '5,572', '₹399.00'], ['Caught by the Bowler: A short spicy sports romance with age gap, curvy girl and a HEA ending! (Spicy Sports Romances)', 'Caught by the Bowler: A short spicy sports romance with age gap, curvy girl and a HEA ending! (Spicy Sports Romances)', '4.0 out of 5 stars', '0', '₹100.00'], ['Consider Me: 1 (Playing for Keeps)', 'Consider Me: 1 (Playing for Keeps)', '4.3 out of 5 stars', '38,490', '₹344.00'], ['Ice Cold Hearts: A Single Mom, Hockey, Reverse Harem Romance (Forbidden Reverse Harem Fantasies)', 'Ice Cold Hearts: A Single Mom, Hockey, Reverse Harem Romance (Forbidden Reverse Harem Fantasies)', '4.4 out of 5 stars', '328', '₹82.00'], ['PUCKED (The Pucked Series Book 1)', 'PUCKED (The Pucked Series Book 1)', '4.2 out of 5 stars', '22,691', '₹415.00'], ['A Photo Finish: A Small Town Second Chance Romance (Gold Rush Ranch Book 2)', 'A Photo Finish: A Small Town Second Chance Romance (Gold Rush Ranch Book 2)', '4.3 out of 5 stars', '16,733', '₹449.00'], ['BETWEEN LOVE AND LOATHING: a dark romance from the #1 bestselling author and Tiktok sensation 2023 (the Hardy Billionaires series)', 'BETWEEN LOVE AND LOATHING: a dark romance from the #1 bestselling author and Tiktok sensation 2023 (the Hardy Billionaires series)', '4.3 out of 5 stars', '15,905', '₹318.60'], ['Hot Route (Boston Blizzard Series Book 1)', 'Hot Route (Boston Blizzard Series Book 1)', '4.2 out of 5 stars', '407', '₹332.00'], ['Rough Score: A Marriage of Convenience Hockey Romance (The Hawkeyes Hockey Series Book 4)', 'Rough Score: A Marriage of Convenience Hockey Romance (The Hawkeyes Hockey Series Book 4)', '4.1 out of 5 stars', '1,400', '₹449.00'], ['Betrothal or Breakaway: A Marriage-of-Convenience Hockey Romance (D.C. Eagles Hockey Book 3)', 'Betrothal or Breakaway: A Marriage-of-Convenience Hockey Romance (D.C. Eagles Hockey Book 3)', '4.5 out of 5 stars', '1,757', '₹416.00'], [\"Dirty Score: A Coach's Daughter Hockey Romance (The Hawkeyes Hockey Series Book 5)\", \"Dirty Score: A Coach's Daughter Hockey Romance (The Hawkeyes Hockey Series Book 5)\", '4.4 out of 5 stars', '1,501', '₹449.00'], ['Run Game (Boston Blizzard Series Book 2)', 'Run Game (Boston Blizzard Series Book 2)', '4.3 out of 5 stars', '297', '₹333.00'], ['Done and Dusted: The must-read, small-town romance and TikTok sensation! (Rebel Blue Ranch)', 'Done and Dusted: The must-read, small-town romance and TikTok sensation! (Rebel Blue Ranch)', '4.2 out of 5 stars', '22,040', '₹454.00'], ['Forever Player (The Player Series Book 7)', 'Forever Player (The Player Series Book 7)', '4.3 out of 5 stars', '492', '₹332.00'], ['The C*ck Down the Block (The Cocky Kingmans Book 1)', 'The C*ck Down the Block (The Cocky Kingmans Book 1)', '4.1 out of 5 stars', '10,846', '₹399.00'], ['Playing By The Rules (The Players)', 'Playing By The Rules (The Players)', '4.3 out of 5 stars', '3,985', '₹365.00'], ['When We Lied: Hockey Romance Novel (Fairview Hockey Book 2)', 'When We Lied: Hockey Romance Novel (Fairview Hockey Book 2)', '4.4 out of 5 stars', '3,898', '₹449.00'], ['Lords of Pain (Dark College Bully Romance): Royals of Forsyth University', 'Lords of Pain (Dark College Bully Romance): Royals of Forsyth University', '4.4 out of 5 stars', '15,963', '₹410.00'], ['Bad Intentions: A Dark Hockey Bully Romance (Hellions of Hade Harbor Book 1)', 'Bad Intentions: A Dark Hockey Bully Romance (Hellions of Hade Harbor Book 1)', '4.5 out of 5 stars', '7,582', '₹449.00'], ['Behind the Camera: A Spicy Single Dad Sports Romance (Love through a Lens Book 3)', 'Behind the Camera: A Spicy Single Dad Sports Romance (Love through a Lens Book 3)', '4.4 out of 5 stars', '1,277', '₹331.00'], ['Heartless Monster: An Enemies to Lovers Romance (Misfits)', 'Heartless Monster: An Enemies to Lovers Romance (Misfits)', '4.2 out of 5 stars', '374', '₹416.00'], [\"Starting Line (For Puck's Sake Book 2)\", \"Starting Line (For Puck's Sake Book 2)\", '4.2 out of 5 stars', '759', '₹499.00'], ['Changing the Game (Offsides Book 1)', 'Changing the Game (Offsides Book 1)', '4.0 out of 5 stars', '622', '₹417.00'], ['Flirtation or Faceoff: An Enemies to Lovers Hockey Romcom (D.C. Eagles Hockey Book 2)', 'Flirtation or Faceoff: An Enemies to Lovers Hockey Romcom (D.C. Eagles Hockey Book 2)', '4.2 out of 5 stars', '2,569', '₹416.00'], ['Find Me Under the Stars: Hockey Romance (Nighthawks Book 3)', 'Find Me Under the Stars: Hockey Romance (Nighthawks Book 3)', '4.2 out of 5 stars', '550', '₹333.00'], ['Offside Play: A Grumpy Sunshine Hockey Romance (Sin Bin Stories Book 1)', 'Offside Play: A Grumpy Sunshine Hockey Romance (Sin Bin Stories Book 1)', '4.0 out of 5 stars', '950', '₹416.00'], ['Tutoring the Player (Campus Wallflowers Book 1)', 'Tutoring the Player (Campus Wallflowers Book 1)', '4.2 out of 5 stars', '5,740', '₹399.00'], ['If You Hate Me (The Toronto Terror Series)', 'If You Hate Me (The Toronto Terror Series)', '4.2 out of 5 stars', '6,766', '₹417.00'], ['Brutal Score: A Single Dad/Nanny Hockey Romance (The Hawkeyes Hockey Series Book 3)', 'Brutal Score: A Single Dad/Nanny Hockey Romance (The Hawkeyes Hockey Series Book 3)', '4.1 out of 5 stars', '1,990', '₹449.00'], ['Stupid Dirty (Possum Hollow Book 1)', 'Stupid Dirty (Possum Hollow Book 1)', '4.4 out of 5 stars', '1,183', '₹399.00'], ['Overtime: A Second Chance Sports Romance (Seattle Phantom Football Book 2)', 'Overtime: A Second Chance Sports Romance (Seattle Phantom Football Book 2)', '4.3 out of 5 stars', '1,724', '₹417.00'], ['Sweet Collide: A Hockey Romance (Saints Of Redville)', 'Sweet Collide: A Hockey Romance (Saints Of Redville)', '4.1 out of 5 stars', '3,326', '₹416.00'], ['Lords of Wrath (Dark College Bully Romance) : Royals of Forsyth University', 'Lords of Wrath (Dark College Bully Romance) : Royals of Forsyth University', '4.5 out of 5 stars', '12,957', '₹449.00'], ['Hale: A Single Dad Sports Romance (Hale Brothers)', 'Hale: A Single Dad Sports Romance (Hale Brothers)', '4.2 out of 5 stars', '898', '₹333.00'], [\"The Summer Playbook: Best friend's brother, reformed player sports romance (Central State Football Book 2)\", \"The Summer Playbook: Best friend's brother, reformed player sports romance (Central State Football Book 2)\", '4.1 out of 5 stars', '853', '₹415.00'], ['Seeing Red: A New Adult Sports Romance (NE University Book 2)', 'Seeing Red: A New Adult Sports Romance (NE University Book 2)', '4.5 out of 5 stars', '712', '₹417.00'], ['Crime and Punishment', 'Crime and Punishment', '4.5 out of 5 stars', '3,382', '₹311.00'], ['The Girl in the Glass Case : Keep Your Girls Safe. Boys Safer.', 'The Girl in the Glass Case : Keep Your Girls Safe. Boys Safer.', '4.4 out of 5 stars', '1,093', '₹145.00'], [\"Keeping My Bride: A Dark Mafia Arranged Marriage Romance (Keeping What's Mine Book 1)\", \"Keeping My Bride: A Dark Mafia Arranged Marriage Romance (Keeping What's Mine Book 1)\", '4.2 out of 5 stars', '5,583', '₹414.00'], ['ROCK PAPER SCISSORS', 'ROCK PAPER SCISSORS', '4.2 out of 5 stars', '58,507', '₹255.00'], ['The Adventures of Sherlock Holmes (AmazonClassics Edition)', 'The Adventures of Sherlock Holmes (AmazonClassics Edition)', '4.5 out of 5 stars', '1,792', '₹129.15'], ['The Housemaid Is Watching', 'The Housemaid Is Watching', '4.2 out of 5 stars', '37,728', '₹324.00'], ['The Good Wife: A BRAND NEW completely addictive psychological thriller from Gemma Rogers for 2024', 'The Good Wife: A BRAND NEW completely addictive psychological thriller from Gemma Rogers for 2024', '4.5 out of 5 stars', '1,703', '₹109.74'], ['Dark Matter*', 'Dark Matter*', '4.4 out of 5 stars', '71,749', '₹330.75'], ['The Reaper: An Enemies to Lovers Dark Romance (Dark Verse Book 2)', 'The Reaper: An Enemies to Lovers Dark Romance (Dark Verse Book 2)', '4.6 out of 5 stars', '12,553', '₹250.00'], ['The Hidden Hindu 3 (Hidden Hindu Story from our Ancient Indian Mythology) Hindi Translation of Hidden Hindu Part 3', 'The Hidden Hindu 3 (Hidden Hindu Story from our Ancient Indian Mythology) Hindi Translation of Hidden Hindu Part 3', '4.5 out of 5 stars', '513', '₹168.00'], ['The Ritual: A Dark College Romance', 'The Ritual: A Dark College Romance', '4.4 out of 5 stars', '67,907', '₹411.00'], ['The Girl in Seat 2A: THE NUMBER ONE BESTSELLER', 'The Girl in Seat 2A: THE NUMBER ONE BESTSELLER', '4.0 out of 5 stars', '7,115', '₹174.30'], ['Three Sisters: A BRAND NEW completely addictive psychological thriller', 'Three Sisters: A BRAND NEW completely addictive psychological thriller', '4.1 out of 5 stars', '0', '₹232.11'], ['SIX OF CROWS', 'SIX OF CROWS', '4.7 out of 5 stars', '36,593', '₹374.00'], ['The Thursday Murder Club', 'The Thursday Murder Club', '4.2 out of 5 stars', '149,168', '₹357.00'], [\"A Good Girl's Guide to Murder: TikTok made me buy it! The first book in the bestselling trilogy, soon to be a major TV series (A Good Girl’s Guide to Murder, Book 1)\", \"A Good Girl's Guide to Murder: TikTok made me buy it! The first book in the bestselling trilogy, soon to be a major TV series (A Good Girl’s Guide to Murder, Book 1)\", '4.6 out of 5 stars', '53,825', '₹290.70'], ['The Inmate: A gripping psychological thriller', 'The Inmate: A gripping psychological thriller', '4.2 out of 5 stars', '121,196', '₹310.00'], ['Project Hail Mary (Lead Title)', 'Project Hail Mary (Lead Title)', '4.7 out of 5 stars', '120,242', '₹362.00'], ['துடிக்க துடிக்க: 18+ மட்டும் (Tamil Edition)', 'துடிக்க துடிக்க: 18+ மட்டும் (Tamil Edition)', '4.1 out of 5 stars', '75', '₹49.00'], ['Hamlet', 'Hamlet', '4.4 out of 5 stars', '10,723', '₹119.00'], ['The Maddest Obsession (Made Book 2)', 'The Maddest Obsession (Made Book 2)', '4.5 out of 5 stars', '30,185', '₹275.00'], ['Murder on the Orient Express (Poirot)', 'Murder on the Orient Express (Poirot)', '4.5 out of 5 stars', '31,691', '₹259.00'], ['The Hidden Hindu', 'The Hidden Hindu', '4.5 out of 5 stars', '0', '₹879.00'], ['Cut and Thirst: A Short Story', 'Cut and Thirst: A Short Story', '3.3 out of 5 stars', '13,116', '₹69.00'], ['The Perfect Son', 'The Perfect Son', '4.3 out of 5 stars', '72,751', '₹333.00'], ['Consumed by Deception: A Dark Marriage Mafia Romance (Deception Trilogy Book 3)', 'Consumed by Deception: A Dark Marriage Mafia Romance (Deception Trilogy Book 3)', '4.5 out of 5 stars', '11,033', '₹449.00'], ['A Game of Thrones: Book 1 of A Song of Ice and Fire', 'A Game of Thrones: Book 1 of A Song of Ice and Fire', '4.6 out of 5 stars', '0', '₹1,214.00'], ['Then She Was Gone', 'Then She Was Gone', '4.2 out of 5 stars', '105,133', '₹355.00'], ['Vivek Irukka Bayamaen ( Part-II) (Tamil Edition)', 'Vivek Irukka Bayamaen ( Part-II) (Tamil Edition)', '4.1 out of 5 stars', '53', '₹124.00'], ['When She Loves: A Dark Mafia, Arranged Marriage Romance (The Fallen Book 4)', 'When She Loves: A Dark Mafia, Arranged Marriage Romance (The Fallen Book 4)', '4.3 out of 5 stars', '9,553', '₹449.00'], ['Novel by Alex Michaelides, The Silent Patient, Book 4', 'Novel by Alex Michaelides, The Silent Patient, Book 4', '5.0 out of 5 stars', '1', '₹145.00'], ['Taken By A Sinner (The Sinners Series)', 'Taken By A Sinner (The Sinners Series)', '4.4 out of 5 stars', '17,643', '₹414.00'], ['Camino Ghosts: The new thrilling novel from Sunday Times bestseller John Grisham', 'Camino Ghosts: The new thrilling novel from Sunday Times bestseller John Grisham', '5.0 out of 5 stars', '2', '₹393.00'], ['Anxious People', 'Anxious People', '4.5 out of 5 stars', '0', '₹888.00'], ['Haunting Adeline: Cat and Mouse Duet, Book 1', 'Haunting Adeline: Cat and Mouse Duet, Book 1', '4.3 out of 5 stars', '0', '₹836.00'], ['The Perfect Marriage: A Completely Gripping Psychological Suspense', 'The Perfect Marriage: A Completely Gripping Psychological Suspense', '4.1 out of 5 stars', '130,214', '₹195.76'], ['The Da Vinci Code: (Robert Langdon Book 2) [Paperback] Dan Brown', 'The Da Vinci Code: (Robert Langdon Book 2) [Paperback] Dan Brown', '4.7 out of 5 stars', '0', '₹325.00'], ['Angels and Demons: (Robert Langdon Book 1) [Paperback] Dan Brown', 'Angels and Demons: (Robert Langdon Book 1) [Paperback] Dan Brown', '4.6 out of 5 stars', '0', '₹319.00'], ['Heart of My Monster: A Dark Mafia Romance (Monster Trilogy Book 3)', 'Heart of My Monster: A Dark Mafia Romance (Monster Trilogy Book 3)', '4.6 out of 5 stars', '7,749', '₹449.00'], ['The Murder of Roger Ackroyd (Poirot)', 'The Murder of Roger Ackroyd (Poirot)', '4.6 out of 5 stars', '26,154', '₹257.69'], ['The Housemaid', 'The Housemaid', '4.4 out of 5 stars', '0', '₹668.00'], ['Simon & Schuster India R.A.W. Hitman', 'Simon & Schuster India R.A.W. Hitman', '4.1 out of 5 stars', '258', '₹337.00'], ['The Girl on the Train [Paperback] Hawkins, Paula', 'The Girl on the Train [Paperback] Hawkins, Paula', '4.1 out of 5 stars', '481,980', '₹175.00'], ['One By One', 'One By One', '4.2 out of 5 stars', '65,986', '₹333.00'], ['Ward D', 'Ward D', '4.3 out of 5 stars', '76,712', '₹333.00'], ['The Guest List: From the author of The Hunting Party, the No.1 Sunday Times bestseller and prize winning mystery thriller in 2021', 'The Guest List: From the author of The Hunting Party, the No.1 Sunday Times bestseller and prize winning mystery thriller in 2021', '4.1 out of 5 stars', '103,415', '₹292.00'], ['The Teacher', 'The Teacher', '4.3 out of 5 stars', '111,935', '₹331.00'], ['How to Kill Men and Get Away With It: A deliciously dark, hilariously twisted debut psychological thriller, about friendship, love and murder', 'How to Kill Men and Get Away With It: A deliciously dark, hilariously twisted debut psychological thriller, about friendship, love and murder', '4.0 out of 5 stars', '3,833', '₹321.00'], ['The Picture of Dorian Gray (Deluxe Hardbound Edition)', 'The Picture of Dorian Gray (Deluxe Hardbound Edition)', '4.7 out of 5 stars', '727', '₹307.00'], ['THE SHINING (REISSUE)', 'THE SHINING (REISSUE)', '4.5 out of 5 stars', '43,651', '₹388.00']]]\n"
     ]
    }
   ],
   "source": [
    "page=2\n",
    "data=[]\n",
    "for i in range(1,page+1):\n",
    "    data.append(get_book(i))\n",
    "print(data)\n"
   ]
  },
  {
   "cell_type": "code",
   "execution_count": 5,
   "id": "66525fe9",
   "metadata": {},
   "outputs": [
    {
     "data": {
      "text/html": [
       "<div>\n",
       "<style scoped>\n",
       "    .dataframe tbody tr th:only-of-type {\n",
       "        vertical-align: middle;\n",
       "    }\n",
       "\n",
       "    .dataframe tbody tr th {\n",
       "        vertical-align: top;\n",
       "    }\n",
       "\n",
       "    .dataframe thead th {\n",
       "        text-align: right;\n",
       "    }\n",
       "</style>\n",
       "<table border=\"1\" class=\"dataframe\">\n",
       "  <thead>\n",
       "    <tr style=\"text-align: right;\">\n",
       "      <th></th>\n",
       "      <th>Book Name</th>\n",
       "      <th>Author</th>\n",
       "      <th>Ratting</th>\n",
       "      <th>Ratting count</th>\n",
       "      <th>Price</th>\n",
       "    </tr>\n",
       "  </thead>\n",
       "  <tbody>\n",
       "    <tr>\n",
       "      <th>0</th>\n",
       "      <td>My First Library: Boxset of 10 Board Books for...</td>\n",
       "      <td>My First Library: Boxset of 10 Board Books for...</td>\n",
       "      <td>4.5 out of 5 stars</td>\n",
       "      <td>78,128</td>\n",
       "      <td>₹399.00</td>\n",
       "    </tr>\n",
       "    <tr>\n",
       "      <th>1</th>\n",
       "      <td>BlackBook of English Vocabulary May 2024 by Ni...</td>\n",
       "      <td>BlackBook of English Vocabulary May 2024 by Ni...</td>\n",
       "      <td>4.2 out of 5 stars</td>\n",
       "      <td>151</td>\n",
       "      <td>₹295.00</td>\n",
       "    </tr>\n",
       "    <tr>\n",
       "      <th>2</th>\n",
       "      <td>Atomic Habits: The life-changing million copy ...</td>\n",
       "      <td>Atomic Habits: The life-changing million copy ...</td>\n",
       "      <td>4.6 out of 5 stars</td>\n",
       "      <td>94,358</td>\n",
       "      <td>₹499.99</td>\n",
       "    </tr>\n",
       "    <tr>\n",
       "      <th>3</th>\n",
       "      <td>Word Power Made Easy By Norman Lewis (More tha...</td>\n",
       "      <td>Word Power Made Easy By Norman Lewis (More tha...</td>\n",
       "      <td>4.4 out of 5 stars</td>\n",
       "      <td>2,904</td>\n",
       "      <td>₹97.00</td>\n",
       "    </tr>\n",
       "    <tr>\n",
       "      <th>4</th>\n",
       "      <td>Don't Believe Everything You Think (English)</td>\n",
       "      <td>Don't Believe Everything You Think (English)</td>\n",
       "      <td>4.5 out of 5 stars</td>\n",
       "      <td>6,283</td>\n",
       "      <td>₹172.00</td>\n",
       "    </tr>\n",
       "    <tr>\n",
       "      <th>5</th>\n",
       "      <td>The Psychology of Money</td>\n",
       "      <td>The Psychology of Money</td>\n",
       "      <td>4.6 out of 5 stars</td>\n",
       "      <td>63,737</td>\n",
       "      <td>₹274.00</td>\n",
       "    </tr>\n",
       "    <tr>\n",
       "      <th>6</th>\n",
       "      <td>The Power of Your Subconscious Mind: Original ...</td>\n",
       "      <td>The Power of Your Subconscious Mind: Original ...</td>\n",
       "      <td>4.5 out of 5 stars</td>\n",
       "      <td>68,487</td>\n",
       "      <td>₹149.00</td>\n",
       "    </tr>\n",
       "    <tr>\n",
       "      <th>7</th>\n",
       "      <td>Ikigai</td>\n",
       "      <td>Ikigai</td>\n",
       "      <td>4.6 out of 5 stars</td>\n",
       "      <td>54,832</td>\n",
       "      <td>₹363.00</td>\n",
       "    </tr>\n",
       "    <tr>\n",
       "      <th>8</th>\n",
       "      <td>BRAHMASTRA Complete Maths Multicolored Formula...</td>\n",
       "      <td>BRAHMASTRA Complete Maths Multicolored Formula...</td>\n",
       "      <td>4.5 out of 5 stars</td>\n",
       "      <td>0</td>\n",
       "      <td>₹150.00</td>\n",
       "    </tr>\n",
       "    <tr>\n",
       "      <th>9</th>\n",
       "      <td>Maths Concept King All Formulas and Theorum | ...</td>\n",
       "      <td>Maths Concept King All Formulas and Theorum | ...</td>\n",
       "      <td>4.2 out of 5 stars</td>\n",
       "      <td>0</td>\n",
       "      <td>₹229.00</td>\n",
       "    </tr>\n",
       "  </tbody>\n",
       "</table>\n",
       "</div>"
      ],
      "text/plain": [
       "                                           Book Name  \\\n",
       "0  My First Library: Boxset of 10 Board Books for...   \n",
       "1  BlackBook of English Vocabulary May 2024 by Ni...   \n",
       "2  Atomic Habits: The life-changing million copy ...   \n",
       "3  Word Power Made Easy By Norman Lewis (More tha...   \n",
       "4       Don't Believe Everything You Think (English)   \n",
       "5                            The Psychology of Money   \n",
       "6  The Power of Your Subconscious Mind: Original ...   \n",
       "7                                             Ikigai   \n",
       "8  BRAHMASTRA Complete Maths Multicolored Formula...   \n",
       "9  Maths Concept King All Formulas and Theorum | ...   \n",
       "\n",
       "                                              Author             Ratting  \\\n",
       "0  My First Library: Boxset of 10 Board Books for...  4.5 out of 5 stars   \n",
       "1  BlackBook of English Vocabulary May 2024 by Ni...  4.2 out of 5 stars   \n",
       "2  Atomic Habits: The life-changing million copy ...  4.6 out of 5 stars   \n",
       "3  Word Power Made Easy By Norman Lewis (More tha...  4.4 out of 5 stars   \n",
       "4       Don't Believe Everything You Think (English)  4.5 out of 5 stars   \n",
       "5                            The Psychology of Money  4.6 out of 5 stars   \n",
       "6  The Power of Your Subconscious Mind: Original ...  4.5 out of 5 stars   \n",
       "7                                             Ikigai  4.6 out of 5 stars   \n",
       "8  BRAHMASTRA Complete Maths Multicolored Formula...  4.5 out of 5 stars   \n",
       "9  Maths Concept King All Formulas and Theorum | ...  4.2 out of 5 stars   \n",
       "\n",
       "  Ratting count    Price  \n",
       "0        78,128  ₹399.00  \n",
       "1           151  ₹295.00  \n",
       "2        94,358  ₹499.99  \n",
       "3         2,904   ₹97.00  \n",
       "4         6,283  ₹172.00  \n",
       "5        63,737  ₹274.00  \n",
       "6        68,487  ₹149.00  \n",
       "7        54,832  ₹363.00  \n",
       "8             0  ₹150.00  \n",
       "9             0  ₹229.00  "
      ]
     },
     "execution_count": 5,
     "metadata": {},
     "output_type": "execute_result"
    }
   ],
   "source": [
    "items = lambda l: [item for sublist in l for item in sublist]\n",
    "f=pd.DataFrame(items(data),columns=['Book Name','Author','Ratting','Ratting count','Price'])\n",
    "f.to_csv('Amazon book product voice .csv',index=False)\n",
    "f=pd.read_csv('Amazon book product voice .csv')\n",
    "f.head(10)"
   ]
  },
  {
   "cell_type": "code",
   "execution_count": 6,
   "id": "0fa906b9",
   "metadata": {},
   "outputs": [
    {
     "data": {
      "text/plain": [
       "(397, 5)"
      ]
     },
     "execution_count": 6,
     "metadata": {},
     "output_type": "execute_result"
    }
   ],
   "source": [
    "f.shape"
   ]
  },
  {
   "cell_type": "code",
   "execution_count": 7,
   "id": "a73e29a6",
   "metadata": {},
   "outputs": [
    {
     "name": "stdout",
     "output_type": "stream",
     "text": [
      "<class 'pandas.core.frame.DataFrame'>\n",
      "RangeIndex: 397 entries, 0 to 396\n",
      "Data columns (total 5 columns):\n",
      " #   Column         Non-Null Count  Dtype \n",
      "---  ------         --------------  ----- \n",
      " 0   Book Name      397 non-null    object\n",
      " 1   Author         397 non-null    object\n",
      " 2   Ratting        397 non-null    object\n",
      " 3   Ratting count  397 non-null    object\n",
      " 4   Price          397 non-null    object\n",
      "dtypes: object(5)\n",
      "memory usage: 15.6+ KB\n"
     ]
    }
   ],
   "source": [
    "f.info()"
   ]
  },
  {
   "cell_type": "code",
   "execution_count": 8,
   "id": "6904568f",
   "metadata": {},
   "outputs": [
    {
     "data": {
      "text/plain": [
       "Book Name        object\n",
       "Author           object\n",
       "Ratting          object\n",
       "Ratting count    object\n",
       "Price            object\n",
       "dtype: object"
      ]
     },
     "execution_count": 8,
     "metadata": {},
     "output_type": "execute_result"
    }
   ],
   "source": [
    "#data Preprocessing\n",
    "f.dtypes"
   ]
  },
  {
   "cell_type": "code",
   "execution_count": 9,
   "id": "90dbca04",
   "metadata": {},
   "outputs": [],
   "source": [
    "f['Ratting']=f['Ratting'].apply(lambda x:x.split(' ')[0])"
   ]
  },
  {
   "cell_type": "code",
   "execution_count": 10,
   "id": "fdb8263b",
   "metadata": {},
   "outputs": [],
   "source": [
    "f['Ratting count']=f['Ratting count'].str.replace(',','')"
   ]
  },
  {
   "cell_type": "code",
   "execution_count": 11,
   "id": "04357495",
   "metadata": {},
   "outputs": [],
   "source": [
    "f['Price']=f['Price'].apply(lambda x:x.split('.')[0])\n",
    "f['Price']=f['Price'].str.replace('₹','')\n",
    "f['Price']=f['Price'].str.replace(',','')\n"
   ]
  },
  {
   "cell_type": "code",
   "execution_count": 12,
   "id": "3d191401",
   "metadata": {},
   "outputs": [],
   "source": [
    "f['Ratting count']=f['Ratting count'].astype('int')"
   ]
  },
  {
   "cell_type": "code",
   "execution_count": 13,
   "id": "538aac4a",
   "metadata": {},
   "outputs": [],
   "source": [
    "f['Ratting']=f['Ratting'].astype('float')"
   ]
  },
  {
   "cell_type": "code",
   "execution_count": 14,
   "id": "016cae19",
   "metadata": {},
   "outputs": [],
   "source": [
    "f['Price']=pd.to_numeric(f['Price'])"
   ]
  },
  {
   "cell_type": "code",
   "execution_count": 15,
   "id": "ab655792",
   "metadata": {},
   "outputs": [
    {
     "name": "stdout",
     "output_type": "stream",
     "text": [
      "<class 'pandas.core.frame.DataFrame'>\n",
      "RangeIndex: 397 entries, 0 to 396\n",
      "Data columns (total 5 columns):\n",
      " #   Column         Non-Null Count  Dtype  \n",
      "---  ------         --------------  -----  \n",
      " 0   Book Name      397 non-null    object \n",
      " 1   Author         397 non-null    object \n",
      " 2   Ratting        397 non-null    float64\n",
      " 3   Ratting count  397 non-null    int32  \n",
      " 4   Price          397 non-null    int64  \n",
      "dtypes: float64(1), int32(1), int64(1), object(2)\n",
      "memory usage: 14.1+ KB\n"
     ]
    }
   ],
   "source": [
    "f.info()"
   ]
  },
  {
   "cell_type": "code",
   "execution_count": 16,
   "id": "dd356e4f",
   "metadata": {},
   "outputs": [
    {
     "data": {
      "text/html": [
       "<div>\n",
       "<style scoped>\n",
       "    .dataframe tbody tr th:only-of-type {\n",
       "        vertical-align: middle;\n",
       "    }\n",
       "\n",
       "    .dataframe tbody tr th {\n",
       "        vertical-align: top;\n",
       "    }\n",
       "\n",
       "    .dataframe thead th {\n",
       "        text-align: right;\n",
       "    }\n",
       "</style>\n",
       "<table border=\"1\" class=\"dataframe\">\n",
       "  <thead>\n",
       "    <tr style=\"text-align: right;\">\n",
       "      <th></th>\n",
       "      <th>Book Name</th>\n",
       "      <th>Author</th>\n",
       "      <th>Ratting</th>\n",
       "      <th>Ratting count</th>\n",
       "      <th>Price</th>\n",
       "    </tr>\n",
       "  </thead>\n",
       "  <tbody>\n",
       "    <tr>\n",
       "      <th>0</th>\n",
       "      <td>My First Library: Boxset of 10 Board Books for...</td>\n",
       "      <td>My First Library: Boxset of 10 Board Books for...</td>\n",
       "      <td>4.5</td>\n",
       "      <td>78128</td>\n",
       "      <td>399</td>\n",
       "    </tr>\n",
       "    <tr>\n",
       "      <th>1</th>\n",
       "      <td>BlackBook of English Vocabulary May 2024 by Ni...</td>\n",
       "      <td>BlackBook of English Vocabulary May 2024 by Ni...</td>\n",
       "      <td>4.2</td>\n",
       "      <td>151</td>\n",
       "      <td>295</td>\n",
       "    </tr>\n",
       "    <tr>\n",
       "      <th>2</th>\n",
       "      <td>Atomic Habits: The life-changing million copy ...</td>\n",
       "      <td>Atomic Habits: The life-changing million copy ...</td>\n",
       "      <td>4.6</td>\n",
       "      <td>94358</td>\n",
       "      <td>499</td>\n",
       "    </tr>\n",
       "    <tr>\n",
       "      <th>3</th>\n",
       "      <td>Word Power Made Easy By Norman Lewis (More tha...</td>\n",
       "      <td>Word Power Made Easy By Norman Lewis (More tha...</td>\n",
       "      <td>4.4</td>\n",
       "      <td>2904</td>\n",
       "      <td>97</td>\n",
       "    </tr>\n",
       "    <tr>\n",
       "      <th>4</th>\n",
       "      <td>Don't Believe Everything You Think (English)</td>\n",
       "      <td>Don't Believe Everything You Think (English)</td>\n",
       "      <td>4.5</td>\n",
       "      <td>6283</td>\n",
       "      <td>172</td>\n",
       "    </tr>\n",
       "    <tr>\n",
       "      <th>...</th>\n",
       "      <td>...</td>\n",
       "      <td>...</td>\n",
       "      <td>...</td>\n",
       "      <td>...</td>\n",
       "      <td>...</td>\n",
       "    </tr>\n",
       "    <tr>\n",
       "      <th>392</th>\n",
       "      <td>The Guest List: From the author of The Hunting...</td>\n",
       "      <td>The Guest List: From the author of The Hunting...</td>\n",
       "      <td>4.1</td>\n",
       "      <td>103415</td>\n",
       "      <td>292</td>\n",
       "    </tr>\n",
       "    <tr>\n",
       "      <th>393</th>\n",
       "      <td>The Teacher</td>\n",
       "      <td>The Teacher</td>\n",
       "      <td>4.3</td>\n",
       "      <td>111935</td>\n",
       "      <td>331</td>\n",
       "    </tr>\n",
       "    <tr>\n",
       "      <th>394</th>\n",
       "      <td>How to Kill Men and Get Away With It: A delici...</td>\n",
       "      <td>How to Kill Men and Get Away With It: A delici...</td>\n",
       "      <td>4.0</td>\n",
       "      <td>3833</td>\n",
       "      <td>321</td>\n",
       "    </tr>\n",
       "    <tr>\n",
       "      <th>395</th>\n",
       "      <td>The Picture of Dorian Gray (Deluxe Hardbound E...</td>\n",
       "      <td>The Picture of Dorian Gray (Deluxe Hardbound E...</td>\n",
       "      <td>4.7</td>\n",
       "      <td>727</td>\n",
       "      <td>307</td>\n",
       "    </tr>\n",
       "    <tr>\n",
       "      <th>396</th>\n",
       "      <td>THE SHINING (REISSUE)</td>\n",
       "      <td>THE SHINING (REISSUE)</td>\n",
       "      <td>4.5</td>\n",
       "      <td>43651</td>\n",
       "      <td>388</td>\n",
       "    </tr>\n",
       "  </tbody>\n",
       "</table>\n",
       "<p>397 rows × 5 columns</p>\n",
       "</div>"
      ],
      "text/plain": [
       "                                             Book Name  \\\n",
       "0    My First Library: Boxset of 10 Board Books for...   \n",
       "1    BlackBook of English Vocabulary May 2024 by Ni...   \n",
       "2    Atomic Habits: The life-changing million copy ...   \n",
       "3    Word Power Made Easy By Norman Lewis (More tha...   \n",
       "4         Don't Believe Everything You Think (English)   \n",
       "..                                                 ...   \n",
       "392  The Guest List: From the author of The Hunting...   \n",
       "393                                        The Teacher   \n",
       "394  How to Kill Men and Get Away With It: A delici...   \n",
       "395  The Picture of Dorian Gray (Deluxe Hardbound E...   \n",
       "396                              THE SHINING (REISSUE)   \n",
       "\n",
       "                                                Author  Ratting  \\\n",
       "0    My First Library: Boxset of 10 Board Books for...      4.5   \n",
       "1    BlackBook of English Vocabulary May 2024 by Ni...      4.2   \n",
       "2    Atomic Habits: The life-changing million copy ...      4.6   \n",
       "3    Word Power Made Easy By Norman Lewis (More tha...      4.4   \n",
       "4         Don't Believe Everything You Think (English)      4.5   \n",
       "..                                                 ...      ...   \n",
       "392  The Guest List: From the author of The Hunting...      4.1   \n",
       "393                                        The Teacher      4.3   \n",
       "394  How to Kill Men and Get Away With It: A delici...      4.0   \n",
       "395  The Picture of Dorian Gray (Deluxe Hardbound E...      4.7   \n",
       "396                              THE SHINING (REISSUE)      4.5   \n",
       "\n",
       "     Ratting count  Price  \n",
       "0            78128    399  \n",
       "1              151    295  \n",
       "2            94358    499  \n",
       "3             2904     97  \n",
       "4             6283    172  \n",
       "..             ...    ...  \n",
       "392         103415    292  \n",
       "393         111935    331  \n",
       "394           3833    321  \n",
       "395            727    307  \n",
       "396          43651    388  \n",
       "\n",
       "[397 rows x 5 columns]"
      ]
     },
     "execution_count": 16,
     "metadata": {},
     "output_type": "execute_result"
    }
   ],
   "source": [
    "f"
   ]
  },
  {
   "cell_type": "code",
   "execution_count": 17,
   "id": "d7caa989",
   "metadata": {},
   "outputs": [
    {
     "data": {
      "text/plain": [
       "Book Name        False\n",
       "Author           False\n",
       "Ratting          False\n",
       "Ratting count    False\n",
       "Price            False\n",
       "dtype: bool"
      ]
     },
     "execution_count": 17,
     "metadata": {},
     "output_type": "execute_result"
    }
   ],
   "source": [
    "#data Cleaning\n",
    "f.isna().any()"
   ]
  },
  {
   "cell_type": "code",
   "execution_count": 18,
   "id": "9c096045",
   "metadata": {},
   "outputs": [
    {
     "data": {
      "text/plain": [
       "Book Name        0\n",
       "Author           0\n",
       "Ratting          0\n",
       "Ratting count    0\n",
       "Price            0\n",
       "dtype: int64"
      ]
     },
     "execution_count": 18,
     "metadata": {},
     "output_type": "execute_result"
    }
   ],
   "source": [
    "f.isna().sum()"
   ]
  },
  {
   "cell_type": "code",
   "execution_count": 19,
   "id": "d663eae1",
   "metadata": {},
   "outputs": [
    {
     "data": {
      "text/plain": [
       "19"
      ]
     },
     "execution_count": 19,
     "metadata": {},
     "output_type": "execute_result"
    }
   ],
   "source": [
    "f.duplicated().sum()"
   ]
  },
  {
   "cell_type": "code",
   "execution_count": 20,
   "id": "06353627",
   "metadata": {},
   "outputs": [],
   "source": [
    "f.drop_duplicates(inplace=True)"
   ]
  },
  {
   "cell_type": "code",
   "execution_count": 21,
   "id": "c5da4289",
   "metadata": {},
   "outputs": [
    {
     "data": {
      "text/plain": [
       "0"
      ]
     },
     "execution_count": 21,
     "metadata": {},
     "output_type": "execute_result"
    }
   ],
   "source": [
    "f.duplicated().sum()"
   ]
  },
  {
   "cell_type": "code",
   "execution_count": 22,
   "id": "940e6b1d",
   "metadata": {},
   "outputs": [
    {
     "data": {
      "text/html": [
       "<div>\n",
       "<style scoped>\n",
       "    .dataframe tbody tr th:only-of-type {\n",
       "        vertical-align: middle;\n",
       "    }\n",
       "\n",
       "    .dataframe tbody tr th {\n",
       "        vertical-align: top;\n",
       "    }\n",
       "\n",
       "    .dataframe thead th {\n",
       "        text-align: right;\n",
       "    }\n",
       "</style>\n",
       "<table border=\"1\" class=\"dataframe\">\n",
       "  <thead>\n",
       "    <tr style=\"text-align: right;\">\n",
       "      <th></th>\n",
       "      <th>Book Name</th>\n",
       "      <th>Author</th>\n",
       "      <th>Ratting</th>\n",
       "      <th>Ratting count</th>\n",
       "      <th>Price</th>\n",
       "    </tr>\n",
       "  </thead>\n",
       "  <tbody>\n",
       "    <tr>\n",
       "      <th>0</th>\n",
       "      <td>My First Library: Boxset of 10 Board Books for...</td>\n",
       "      <td>My First Library: Boxset of 10 Board Books for...</td>\n",
       "      <td>4.5</td>\n",
       "      <td>78128</td>\n",
       "      <td>399</td>\n",
       "    </tr>\n",
       "    <tr>\n",
       "      <th>1</th>\n",
       "      <td>BlackBook of English Vocabulary May 2024 by Ni...</td>\n",
       "      <td>BlackBook of English Vocabulary May 2024 by Ni...</td>\n",
       "      <td>4.2</td>\n",
       "      <td>151</td>\n",
       "      <td>295</td>\n",
       "    </tr>\n",
       "    <tr>\n",
       "      <th>2</th>\n",
       "      <td>Atomic Habits: The life-changing million copy ...</td>\n",
       "      <td>Atomic Habits: The life-changing million copy ...</td>\n",
       "      <td>4.6</td>\n",
       "      <td>94358</td>\n",
       "      <td>499</td>\n",
       "    </tr>\n",
       "    <tr>\n",
       "      <th>3</th>\n",
       "      <td>Word Power Made Easy By Norman Lewis (More tha...</td>\n",
       "      <td>Word Power Made Easy By Norman Lewis (More tha...</td>\n",
       "      <td>4.4</td>\n",
       "      <td>2904</td>\n",
       "      <td>97</td>\n",
       "    </tr>\n",
       "    <tr>\n",
       "      <th>4</th>\n",
       "      <td>Don't Believe Everything You Think (English)</td>\n",
       "      <td>Don't Believe Everything You Think (English)</td>\n",
       "      <td>4.5</td>\n",
       "      <td>6283</td>\n",
       "      <td>172</td>\n",
       "    </tr>\n",
       "    <tr>\n",
       "      <th>...</th>\n",
       "      <td>...</td>\n",
       "      <td>...</td>\n",
       "      <td>...</td>\n",
       "      <td>...</td>\n",
       "      <td>...</td>\n",
       "    </tr>\n",
       "    <tr>\n",
       "      <th>392</th>\n",
       "      <td>The Guest List: From the author of The Hunting...</td>\n",
       "      <td>The Guest List: From the author of The Hunting...</td>\n",
       "      <td>4.1</td>\n",
       "      <td>103415</td>\n",
       "      <td>292</td>\n",
       "    </tr>\n",
       "    <tr>\n",
       "      <th>393</th>\n",
       "      <td>The Teacher</td>\n",
       "      <td>The Teacher</td>\n",
       "      <td>4.3</td>\n",
       "      <td>111935</td>\n",
       "      <td>331</td>\n",
       "    </tr>\n",
       "    <tr>\n",
       "      <th>394</th>\n",
       "      <td>How to Kill Men and Get Away With It: A delici...</td>\n",
       "      <td>How to Kill Men and Get Away With It: A delici...</td>\n",
       "      <td>4.0</td>\n",
       "      <td>3833</td>\n",
       "      <td>321</td>\n",
       "    </tr>\n",
       "    <tr>\n",
       "      <th>395</th>\n",
       "      <td>The Picture of Dorian Gray (Deluxe Hardbound E...</td>\n",
       "      <td>The Picture of Dorian Gray (Deluxe Hardbound E...</td>\n",
       "      <td>4.7</td>\n",
       "      <td>727</td>\n",
       "      <td>307</td>\n",
       "    </tr>\n",
       "    <tr>\n",
       "      <th>396</th>\n",
       "      <td>THE SHINING (REISSUE)</td>\n",
       "      <td>THE SHINING (REISSUE)</td>\n",
       "      <td>4.5</td>\n",
       "      <td>43651</td>\n",
       "      <td>388</td>\n",
       "    </tr>\n",
       "  </tbody>\n",
       "</table>\n",
       "<p>378 rows × 5 columns</p>\n",
       "</div>"
      ],
      "text/plain": [
       "                                             Book Name  \\\n",
       "0    My First Library: Boxset of 10 Board Books for...   \n",
       "1    BlackBook of English Vocabulary May 2024 by Ni...   \n",
       "2    Atomic Habits: The life-changing million copy ...   \n",
       "3    Word Power Made Easy By Norman Lewis (More tha...   \n",
       "4         Don't Believe Everything You Think (English)   \n",
       "..                                                 ...   \n",
       "392  The Guest List: From the author of The Hunting...   \n",
       "393                                        The Teacher   \n",
       "394  How to Kill Men and Get Away With It: A delici...   \n",
       "395  The Picture of Dorian Gray (Deluxe Hardbound E...   \n",
       "396                              THE SHINING (REISSUE)   \n",
       "\n",
       "                                                Author  Ratting  \\\n",
       "0    My First Library: Boxset of 10 Board Books for...      4.5   \n",
       "1    BlackBook of English Vocabulary May 2024 by Ni...      4.2   \n",
       "2    Atomic Habits: The life-changing million copy ...      4.6   \n",
       "3    Word Power Made Easy By Norman Lewis (More tha...      4.4   \n",
       "4         Don't Believe Everything You Think (English)      4.5   \n",
       "..                                                 ...      ...   \n",
       "392  The Guest List: From the author of The Hunting...      4.1   \n",
       "393                                        The Teacher      4.3   \n",
       "394  How to Kill Men and Get Away With It: A delici...      4.0   \n",
       "395  The Picture of Dorian Gray (Deluxe Hardbound E...      4.7   \n",
       "396                              THE SHINING (REISSUE)      4.5   \n",
       "\n",
       "     Ratting count  Price  \n",
       "0            78128    399  \n",
       "1              151    295  \n",
       "2            94358    499  \n",
       "3             2904     97  \n",
       "4             6283    172  \n",
       "..             ...    ...  \n",
       "392         103415    292  \n",
       "393         111935    331  \n",
       "394           3833    321  \n",
       "395            727    307  \n",
       "396          43651    388  \n",
       "\n",
       "[378 rows x 5 columns]"
      ]
     },
     "execution_count": 22,
     "metadata": {},
     "output_type": "execute_result"
    }
   ],
   "source": [
    "data=f\n",
    "data"
   ]
  },
  {
   "cell_type": "code",
   "execution_count": 23,
   "id": "d090d7da",
   "metadata": {},
   "outputs": [
    {
     "name": "stdout",
     "output_type": "stream",
     "text": [
      "Requirement already satisfied: SpeechRecognition in c:\\users\\elcot\\anaconda3\\lib\\site-packages (3.10.1)Note: you may need to restart the kernel to use updated packages.\n",
      "\n",
      "Requirement already satisfied: typing-extensions in c:\\users\\elcot\\anaconda3\\lib\\site-packages (from SpeechRecognition) (4.3.0)\n",
      "Requirement already satisfied: requests>=2.26.0 in c:\\users\\elcot\\anaconda3\\lib\\site-packages (from SpeechRecognition) (2.28.1)\n",
      "Requirement already satisfied: idna<4,>=2.5 in c:\\users\\elcot\\anaconda3\\lib\\site-packages (from requests>=2.26.0->SpeechRecognition) (3.3)\n",
      "Requirement already satisfied: certifi>=2017.4.17 in c:\\users\\elcot\\anaconda3\\lib\\site-packages (from requests>=2.26.0->SpeechRecognition) (2022.9.14)\n",
      "Requirement already satisfied: charset-normalizer<3,>=2 in c:\\users\\elcot\\anaconda3\\lib\\site-packages (from requests>=2.26.0->SpeechRecognition) (2.0.4)\n",
      "Requirement already satisfied: urllib3<1.27,>=1.21.1 in c:\\users\\elcot\\anaconda3\\lib\\site-packages (from requests>=2.26.0->SpeechRecognition) (1.26.11)\n"
     ]
    }
   ],
   "source": [
    "pip install SpeechRecognition"
   ]
  },
  {
   "cell_type": "code",
   "execution_count": 24,
   "id": "b6c8c755",
   "metadata": {},
   "outputs": [
    {
     "name": "stdout",
     "output_type": "stream",
     "text": [
      "Requirement already satisfied: pyaudio in c:\\users\\elcot\\anaconda3\\lib\\site-packages (0.2.14)\n"
     ]
    }
   ],
   "source": [
    "import sys\n",
    "!{sys.executable} -m pip install pyaudio"
   ]
  },
  {
   "cell_type": "code",
   "execution_count": 25,
   "id": "ad19c9b6",
   "metadata": {},
   "outputs": [
    {
     "name": "stdout",
     "output_type": "stream",
     "text": [
      "pygame 2.5.2 (SDL 2.28.3, Python 3.9.13)\n",
      "Hello from the pygame community. https://www.pygame.org/contribute.html\n"
     ]
    }
   ],
   "source": [
    "import pandas as pd\n",
    "from gtts import gTTS as gs\n",
    "from io import BytesIO\n",
    "import speech_recognition as sr\n",
    "from pygame import mixer\n",
    "import time\n",
    "import numpy"
   ]
  },
  {
   "cell_type": "code",
   "execution_count": 26,
   "id": "31368377",
   "metadata": {},
   "outputs": [],
   "source": [
    "def speak(txt):\n",
    "    mp3_f=BytesIO()\n",
    "    st=gs(text=txt,lang='en',tld='co.in')\n",
    "    st.write_to_fp(mp3_f)\n",
    "    return mp3_f\n",
    "def playback(txt):\n",
    "    mixer.init()\n",
    "    #txt='Just facts'\n",
    "    sound=speak(txt)\n",
    "    sound.seek(0)\n",
    "    mixer.music.load(sound,'mp3')\n",
    "    mixer.music.play()\n"
   ]
  },
  {
   "cell_type": "code",
   "execution_count": 27,
   "id": "89cfc757",
   "metadata": {},
   "outputs": [],
   "source": [
    "def mic():    \n",
    "    vc=sr.Recognizer()\n",
    "    with sr.Microphone() as source:\n",
    "        print('speak')\n",
    "        audio=vc.listen(source,phrase_time_limit=5)\n",
    "        print('stop')\n",
    "    try:\n",
    "        txt=vc.recognize_google(audio,language='en')\n",
    "        print('you said %s'%(txt))\n",
    "        t='you said %s'%(txt)\n",
    "        playback(t)\n",
    "        time.sleep(3)\n",
    "        if 'yes' not in t.lower() and 'no' not in t.lower():\n",
    "            t = \"You have given an invalid input.  hence the program is terminated\"\n",
    "            playback(t)\n",
    "        return 'yes' if 'yes' in txt else 'no'\n",
    "    except:\n",
    "        t=\"sorry I can't hear anything.hence the program is terminated\"\n",
    "        print(t)\n",
    "        playback(t)\n",
    "        return t\n",
    "\n",
    "\n"
   ]
  },
  {
   "cell_type": "code",
   "execution_count": 28,
   "id": "b4e3f49d",
   "metadata": {},
   "outputs": [],
   "source": [
    "def micins():    \n",
    "    vc=sr.Recognizer()\n",
    "    with sr.Microphone() as source:\n",
    "        print('say number')\n",
    "        audio=vc.listen(source,phrase_time_limit=5)\n",
    "        print('stop')\n",
    "    try:\n",
    "        txt=vc.recognize_google(audio,language='en')\n",
    "        print('you said %s'%(txt))\n",
    "        t='you said %s'%(txt)\n",
    "        playback(t)\n",
    "        time.sleep(3)\n",
    "        return t\n",
    "        \n",
    "    except:\n",
    "        t=\"sorry I can't hear anything.hence the program is terminated\"\n",
    "        print(t)\n",
    "        playback(t)\n",
    "\n",
    "    "
   ]
  },
  {
   "cell_type": "code",
   "execution_count": 29,
   "id": "ed6faf62",
   "metadata": {},
   "outputs": [],
   "source": [
    "def row_column(row,column):\n",
    "    txt = f\"The chosen file has {row} number of rows and {column} number of columns.\"\n",
    "    print(txt)\n",
    "    playback(txt)\n",
    "    time.sleep(7)\n",
    "    "
   ]
  },
  {
   "cell_type": "code",
   "execution_count": 30,
   "id": "5a43a34a",
   "metadata": {},
   "outputs": [],
   "source": [
    "def column_names():\n",
    "    columns=list(data.columns)\n",
    "    txt=f\"\"\"Here the column names .\n",
    "        {columns[0]} is first column ,\n",
    "        {columns[1]} is second column,\n",
    "        {columns[2]} is third column,\n",
    "        {columns[3]} is fourth column,\n",
    "        {columns[4]} is fifth column\"\"\"\n",
    "    print(txt)\n",
    "    playback(txt)\n",
    "    time.sleep(16)\n",
    "    "
   ]
  },
  {
   "cell_type": "code",
   "execution_count": 31,
   "id": "a44c4714",
   "metadata": {},
   "outputs": [],
   "source": [
    "def stat():\n",
    "    txt='Here the Statistics of the data'\n",
    "    playback(txt)\n",
    "    time.sleep(4)\n",
    "    print(txt)\n",
    "    print(data.describe())\n",
    "    \n",
    "    "
   ]
  },
  {
   "cell_type": "code",
   "execution_count": 32,
   "id": "67db99aa",
   "metadata": {},
   "outputs": [],
   "source": [
    "def max_price():\n",
    "    #x=data.loc[data['Price'].idxmax()]\n",
    "    #print(x[0])\n",
    "    #print(x[4])\n",
    "    print('Top 5 Books respect to Price in barplot')\n",
    "    Top_5_price=data[['Book Name','Price']].sort_values(by='Price',ascending=False)\n",
    "    #Top_10_ratting\n",
    "    x=Top_5_price.iloc[0]\n",
    "    #x\n",
    "    sns.barplot(data=Top_5_price.head(),x='Price',y='Book Name',color='purple')\n",
    "    plt.title('Top 5 Book Price')\n",
    "    plt.show()\n",
    "    \n",
    "\n",
    "    txt=f\"In this dataset '{x[0]}' book have the highest Price '{x[1]}' .\"\n",
    "    print(txt)\n",
    "    playback(txt)\n",
    "    time.sleep(15)\n",
    "    "
   ]
  },
  {
   "cell_type": "code",
   "execution_count": 33,
   "id": "fb0eab80",
   "metadata": {},
   "outputs": [],
   "source": [
    "def max_rat_count():\n",
    "    #x=data.loc[data['Ratting count'].idxmax()]\n",
    "    #print(x[0])\n",
    "    #print(x[3])\n",
    "    Top_5_ratting=data[['Book Name','Ratting count']].sort_values(by='Ratting count',ascending=False)\n",
    "    #Top_10_ratting\n",
    "    x=Top_5_ratting.iloc[0]\n",
    "    #x\n",
    "    sns.barplot(data=Top_5_ratting.head(),x='Ratting count',y='Book Name',color='purple')\n",
    "    plt.title('Top 5 Ratting counts Book')\n",
    "    plt.show()\n",
    "    txt=f\"In this dataset '{x[0]}' have the highest ratting count '{x[1]}' .\"\n",
    "    print(txt)\n",
    "    playback(txt)\n",
    "    time.sleep(10)\n",
    "    "
   ]
  },
  {
   "cell_type": "code",
   "execution_count": 34,
   "id": "16e495cb",
   "metadata": {},
   "outputs": [],
   "source": [
    "def dist_plot():\n",
    "    txt=\"\"\"I have 3 columns Distribution plot.\n",
    "          Which column do you want to display?\n",
    "          say number 1 for Ratting coloumn\n",
    "          say number 2 for Ratting counts column\n",
    "          say number 3 for Price column\"\"\"\n",
    "    playback(txt)\n",
    "    time.sleep(15)\n",
    "    \n",
    "    while True:\n",
    "        dis=micins()\n",
    "        disn=re.findall('\\d',dis)\n",
    "        if len(disn)!=0 and int(disn[0]) in (1,2,3):\n",
    "            if int(disn[0])==1:\n",
    "                print('Distibution plot for Ratting column')\n",
    "                sns.histplot(data['Ratting'].tolist(), bins=10,color='#C70039')\n",
    "                plt.title('Histogram for Ratting',fontsize=10)\n",
    "                plt.xlabel('Ratting Range',fontsize=10)\n",
    "                plt.ylabel('Count of Rattings',fontsize=10)\n",
    "                plt.show()\n",
    "            elif int(disn[0])==2:\n",
    "                print('Distibution plot for Ratting count column')\n",
    "                sns.histplot(data['Ratting count'].tolist(),bins=10,color='#C70039')\n",
    "                plt.title('Histogram for Ratting counts',fontsize=10)\n",
    "                plt.xlabel('Ratting Counts',fontsize=10)\n",
    "                plt.ylabel('Total counts',fontsize=10)\n",
    "                plt.show()\n",
    "            elif int(disn[0])==3:\n",
    "                print('Distibution plot for Price column')\n",
    "                sns.histplot(data['Price'].tolist(),bins=10,color='#C70039')\n",
    "                plt.title('Histogram for Price',fontsize=10)\n",
    "                plt.xlabel('Price Range',fontsize=10)\n",
    "                plt.ylabel('Pric')\n",
    "                plt.show()\n",
    "            nxt_plot='do you want to continue the next plot? say yes or no'\n",
    "            playback(nxt_plot)\n",
    "            time.sleep(5)\n",
    "            next_plot=mic()\n",
    "            if next_plot=='no':\n",
    "                break\n",
    "        else:\n",
    "            txt='Invalid input'\n",
    "            playback(txt)\n",
    "            time.sleep(3)\n",
    "        \n",
    "            \n",
    "    "
   ]
  },
  {
   "cell_type": "code",
   "execution_count": 35,
   "id": "badfc88b",
   "metadata": {},
   "outputs": [],
   "source": [
    "def insight():\n",
    "    txt=\"I have Amazon book product dataset. Do you want to see the insight of the dataset . say yes or no\"\n",
    "    playback(txt)\n",
    "    time.sleep(7)\n",
    "    ins_req=mic()\n",
    "    if ins_req=='yes':\n",
    "        txt=\"\"\"say number one for diplay the dataset.\n",
    "                say number two for to know about the row and column for dataset.\n",
    "                say number three for to know about the column names.\n",
    "                say number four for to display the statistics of the data.\n",
    "                say number five for to know about the Top 5 book Name with respect to the price.\n",
    "                say number six for to know about the Top 5 Book Name with respect to the Ratting Counts.\n",
    "                say number seven for display the distribution plot of data columns.\"\"\"\n",
    "        playback(txt)\n",
    "        time.sleep(38)\n",
    "        \n",
    "        while True:\n",
    "            que=micins()\n",
    "            num=re.findall('\\d',que)\n",
    "            if len(num)!=0 and int(num[0]) in (1,2,3,4,5,6,7):\n",
    "                if int(num[0])==1:\n",
    "                    t='here the Book Product Dataset'\n",
    "                    playback(t)\n",
    "                    time.sleep(3)\n",
    "                    print(data)\n",
    "                elif int(num[0])==2:\n",
    "                    row_column(len(data),len(data.columns))\n",
    "                elif int(num[0])==3:\n",
    "                    column_names()\n",
    "                elif int(num[0])==4:\n",
    "                    stat()\n",
    "                elif int(num[0])==5:\n",
    "                    max_price()\n",
    "                elif int(num[0])==6:\n",
    "                    max_rat_count()\n",
    "                elif int(num[0])==7:\n",
    "                    dist_plot()\n",
    "                cont='do you want to continue know about the data set? say yes or no'\n",
    "                playback(cont)\n",
    "                time.sleep(5)\n",
    "                cont_an=mic()\n",
    "                if cont_an=='no' or cont_an== \"sorry I can't hear anything.hence the program is terminated\":\n",
    "                    break\n",
    "            else:\n",
    "                txt='Invalid input'\n",
    "                playback(txt)\n",
    "                time.sleep(3)\n",
    "                \n",
    "                \n",
    "            \n",
    "                \n",
    "                \n",
    "        "
   ]
  },
  {
   "cell_type": "code",
   "execution_count": null,
   "id": "9a7d18b5",
   "metadata": {},
   "outputs": [],
   "source": [
    "if __name__==\"__main__\":\n",
    "    insight()\n",
    "print('Done')\n",
    "    "
   ]
  },
  {
   "cell_type": "code",
   "execution_count": null,
   "id": "c60fc486",
   "metadata": {},
   "outputs": [],
   "source": [
    "                  "
   ]
  },
  {
   "cell_type": "code",
   "execution_count": null,
   "id": "e3c2e960",
   "metadata": {},
   "outputs": [],
   "source": [
    "      "
   ]
  },
  {
   "cell_type": "code",
   "execution_count": null,
   "id": "56c743ea",
   "metadata": {},
   "outputs": [],
   "source": [
    "\n"
   ]
  },
  {
   "cell_type": "code",
   "execution_count": null,
   "id": "0b00f8c1",
   "metadata": {},
   "outputs": [],
   "source": [
    "\n",
    "                "
   ]
  },
  {
   "cell_type": "code",
   "execution_count": null,
   "id": "4651b39b",
   "metadata": {},
   "outputs": [],
   "source": [
    "\n",
    "    \n",
    "                \n",
    "           \n",
    "                \n",
    "       "
   ]
  },
  {
   "cell_type": "code",
   "execution_count": null,
   "id": "5c867ec8",
   "metadata": {},
   "outputs": [],
   "source": []
  }
 ],
 "metadata": {
  "kernelspec": {
   "display_name": "Python 3 (ipykernel)",
   "language": "python",
   "name": "python3"
  },
  "language_info": {
   "codemirror_mode": {
    "name": "ipython",
    "version": 3
   },
   "file_extension": ".py",
   "mimetype": "text/x-python",
   "name": "python",
   "nbconvert_exporter": "python",
   "pygments_lexer": "ipython3",
   "version": "3.9.13"
  }
 },
 "nbformat": 4,
 "nbformat_minor": 5
}
