{
 "cells": [
  {
   "cell_type": "code",
   "execution_count": 1,
   "id": "70beb3ea",
   "metadata": {},
   "outputs": [],
   "source": [
    "import numpy as np\n",
    "import nltk\n",
    "import string\n",
    "import random\n"
   ]
  },
  {
   "cell_type": "code",
   "execution_count": 2,
   "id": "a62582dd",
   "metadata": {},
   "outputs": [
    {
     "name": "stderr",
     "output_type": "stream",
     "text": [
      "[nltk_data] Downloading package punkt to\n",
      "[nltk_data]     C:\\Users\\ELCOT\\AppData\\Roaming\\nltk_data...\n",
      "[nltk_data]   Package punkt is already up-to-date!\n",
      "[nltk_data] Downloading package wordnet to\n",
      "[nltk_data]     C:\\Users\\ELCOT\\AppData\\Roaming\\nltk_data...\n"
     ]
    }
   ],
   "source": [
    "nltk.download('punkt')#Using the punkt tokenizer\n",
    "nltk.download('wordnet') #using the WordNet dictionary\n",
    "import warnings\n",
    "warnings.filterwarnings('ignore')"
   ]
  },
  {
   "cell_type": "code",
   "execution_count": 4,
   "id": "5193eb93",
   "metadata": {},
   "outputs": [],
   "source": [
    "file=open(r'C:\\Users\\ELCOT\\Downloads\\8 python\\Data science chat bot.txt','r',errors='ignore')\n",
    "raw_data=file.read()\n",
    "raw_data=raw_data.lower()# converts text to lowercase\n",
    "sent_tokens=nltk.sent_tokenize(raw_data) #converts raw data into sentence tokenize\n",
    "word_tokens=nltk.word_tokenize(raw_data)\n"
   ]
  },
  {
   "cell_type": "code",
   "execution_count": 8,
   "id": "ad30bcf6",
   "metadata": {
    "scrolled": true
   },
   "outputs": [
    {
     "data": {
      "text/plain": [
       "['[3] data science is multifaceted and can be described as a science, a research paradigm, a research method, a discipline, a workflow, and a profession.',\n",
       " '[4]\\n\\ndata science is \"a concept to unify statistics, data analysis, informatics, and their related methods\" to \"understand and analyze actual phenomena\" with data.']"
      ]
     },
     "execution_count": 8,
     "metadata": {},
     "output_type": "execute_result"
    }
   ],
   "source": [
    "sent_tokens[2:4]"
   ]
  },
  {
   "cell_type": "code",
   "execution_count": 9,
   "id": "cae1b292",
   "metadata": {},
   "outputs": [
    {
     "data": {
      "text/plain": [
       "['science', 'is', 'an', 'interdisciplinary', 'academic', 'field', '[']"
      ]
     },
     "execution_count": 9,
     "metadata": {},
     "output_type": "execute_result"
    }
   ],
   "source": [
    "word_tokens[3:10]"
   ]
  },
  {
   "cell_type": "markdown",
   "id": "05ed3b47",
   "metadata": {},
   "source": [
    "Text Preprocessing"
   ]
  },
  {
   "cell_type": "code",
   "execution_count": 10,
   "id": "e93f527c",
   "metadata": {},
   "outputs": [],
   "source": [
    "lemmer=nltk.stem.WordNetLemmatizer()\n",
    "def LemTokens(tokens):\n",
    "    return[lemmer.lemmatize(token) for token in tokens]\n",
    "remove_punct=dict((ord(punct),None) for punct in string.punctuation)\n",
    "def LemNormalize(text):\n",
    "    return LemTokens(nltk.word_tokenize(text.lower().translate(remove_punct)))"
   ]
  },
  {
   "cell_type": "markdown",
   "id": "567604f9",
   "metadata": {},
   "source": [
    "Define Greeting function"
   ]
  },
  {
   "cell_type": "code",
   "execution_count": 25,
   "id": "e7f9052f",
   "metadata": {},
   "outputs": [],
   "source": [
    "greet_input=['hello','hey',\"what's up\",'hi','greetings']\n",
    "greet_response=['hi','hey','hi there','hello']\n",
    "def greet(sentence):\n",
    "    for word in sentence.split():\n",
    "        if word.lower() in greet_input:\n",
    "            return random.choice(greet_response)"
   ]
  },
  {
   "cell_type": "markdown",
   "id": "f91a30ba",
   "metadata": {},
   "source": [
    "Response Generation"
   ]
  },
  {
   "cell_type": "code",
   "execution_count": 26,
   "id": "c6d0695c",
   "metadata": {},
   "outputs": [],
   "source": [
    "from sklearn.feature_extraction.text import TfidfVectorizer\n",
    "from sklearn.metrics.pairwise import cosine_similarity"
   ]
  },
  {
   "cell_type": "code",
   "execution_count": 29,
   "id": "72adec5c",
   "metadata": {},
   "outputs": [],
   "source": [
    "def response(user_response):\n",
    "    robo1_response=''\n",
    "    TfidfVec=TfidfVectorizer(tokenizer=LemNormalize,stop_words='english')\n",
    "    tfidf=TfidfVec.fit_transform(sent_tokens)\n",
    "    vals=cosine_similarity(tfidf[-1],tfidf)\n",
    "    idx=vals.argsort()[0][-2]\n",
    "    flat=vals.flatten()\n",
    "    flat.sort()\n",
    "    req_tfidf=flat[-2]\n",
    "    if(req_tfidf==0):\n",
    "        robo1_response=robo1_response+\"I am sorry! I don't understand you\"\n",
    "        return robo1_response\n",
    "    else:\n",
    "        robo1_response=robo1_response+sent_tokens[idx]\n",
    "        return robo1_response"
   ]
  },
  {
   "cell_type": "markdown",
   "id": "9d790a1b",
   "metadata": {},
   "source": [
    "Conversation start and end "
   ]
  },
  {
   "cell_type": "code",
   "execution_count": 34,
   "id": "ef229879",
   "metadata": {},
   "outputs": [
    {
     "name": "stdout",
     "output_type": "stream",
     "text": [
      " BOT: Hi I am Data Science and Machine Learning Bot.Let's have a conversation! Also, if you want to exit any time, just type Bye\n",
      "bye\n",
      "BOT: Goodbye! Take care\n"
     ]
    }
   ],
   "source": [
    "flag=True\n",
    "\n",
    "print(\" BOT: Hi I am Data Science and Machine Learning Bot.Let's have a conversation! Also, if you want to exit any time, just type Bye\") \n",
    "while (flag==True):\n",
    "    user_response=input()\n",
    "    user_response=user_response.lower()\n",
    "    if(user_response!='bye'):\n",
    "        if(user_response=='thanks' or user_response=='thank you'):\n",
    "            flag=False\n",
    "            print(\"BOT: You are Welcome\")\n",
    "        else:\n",
    "            if(greet(user_response)!=None):\n",
    "                print(\"BOT: \"+greet(user_response))\n",
    "            else:\n",
    "                sent_tokens.append(user_response)\n",
    "                word_tokens=word_tokens+nltk.word_tokenize(user_response)\n",
    "                final_words=list(set(word_tokens))\n",
    "                print(\"BOT: \",end=\"\")\n",
    "                print(response(user_response))\n",
    "                sent_tokens.remove(user_response)\n",
    "    else:\n",
    "        flag=False\n",
    "        print('BOT: Goodbye! Take care')"
   ]
  }
 ],
 "metadata": {
  "kernelspec": {
   "display_name": "Python 3 (ipykernel)",
   "language": "python",
   "name": "python3"
  },
  "language_info": {
   "codemirror_mode": {
    "name": "ipython",
    "version": 3
   },
   "file_extension": ".py",
   "mimetype": "text/x-python",
   "name": "python",
   "nbconvert_exporter": "python",
   "pygments_lexer": "ipython3",
   "version": "3.9.13"
  }
 },
 "nbformat": 4,
 "nbformat_minor": 5
}
